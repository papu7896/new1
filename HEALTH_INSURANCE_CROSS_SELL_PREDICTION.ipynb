{
  "nbformat": 4,
  "nbformat_minor": 0,
  "metadata": {
    "colab": {
      "provenance": [],
      "include_colab_link": true
    },
    "kernelspec": {
      "name": "python3",
      "display_name": "Python 3"
    },
    "language_info": {
      "name": "python"
    }
  },
  "cells": [
    {
      "cell_type": "markdown",
      "metadata": {
        "id": "view-in-github",
        "colab_type": "text"
      },
      "source": [
        "<a href=\"https://colab.research.google.com/github/papu7896/projects/blob/main/HEALTH_INSURANCE_CROSS_SELL_PREDICTION.ipynb\" target=\"_parent\"><img src=\"https://colab.research.google.com/assets/colab-badge.svg\" alt=\"Open In Colab\"/></a>"
      ]
    },
    {
      "cell_type": "markdown",
      "metadata": {
        "id": "LGcl5Bv9ed6u"
      },
      "source": [
        "# **Problem Statement**"
      ]
    },
    {
      "cell_type": "markdown",
      "metadata": {
        "id": "jJAmGx75jJk1"
      },
      "source": [
        "Our client is an Insurance company that has provided Health Insurance to its customers now they need your help in building a model to predict whether the policyholders (customers) from past year will also be interested in Vehicle Insurance provided by the company.\n",
        "\n",
        "An insurance policy is an arrangement by which a company undertakes to provide a guarantee of compensation for specified loss, damage, illness, or death in return for the payment of a specified premium. A premium is a sum of money that the customer needs to pay regularly to an insurance company for this guarantee.\n",
        "\n",
        "For example, you may pay a premium of Rs. 5000 each year for a health insurance cover of Rs. 200,000/- so that if, God forbid, you fall ill and need to be hospitalised in that year, the insurance provider company will bear the cost of hospitalisation etc. for upto Rs. 200,000. Now if you are wondering how can company bear such high hospitalisation cost when it charges a premium of only Rs. 5000/-, that is where the concept of probabilities comes in picture. For example, like you, there may be 100 customers who would be paying a premium of Rs. 5000 every year, but only a few of them (say 2-3) would get hospitalised that year and not everyone. This way everyone shares the risk of everyone else.\n",
        "\n",
        "Just like medical insurance, there is vehicle insurance where every year customer needs to pay a premium of certain amount to insurance provider company so that in case of unfortunate accident by the vehicle, the insurance provider company will provide a compensation (called ‘sum assured’) to the customer.\n",
        "\n",
        "Building a model to predict whether a customer would be interested in Vehicle Insurance is extremely helpful for the company because it can then accordingly plan its communication strategy to reach out to those customers and optimise its business model and revenue.\n",
        "\n",
        "Now, in order to predict, whether the customer would be interested in Vehicle insurance, you have information about demographics (gender, age, region code type), Vehicles (Vehicle Age, Damage), Policy (Premium, sourcing channel) etc."
      ]
    },
    {
      "cell_type": "markdown",
      "metadata": {
        "id": "AzGDqdC4fZ-b"
      },
      "source": [
        "# **Attribute Information**"
      ]
    },
    {
      "cell_type": "markdown",
      "metadata": {
        "id": "oEJxl68MjYbs"
      },
      "source": [
        "1. id :\tUnique ID for the customer\n",
        "\n",
        "2. Gender\t: Gender of the customer\n",
        "\n",
        "3. Age :\tAge of the customer\n",
        "\n",
        "4. Driving_License\t0 : Customer does not have DL, 1 : Customer already has DL\n",
        "\n",
        "5. Region_Code :\tUnique code for the region of the customer\n",
        "\n",
        "6. Previously_Insured\t: 1 : Customer already has Vehicle Insurance, 0 : Customer doesn't have Vehicle Insurance\n",
        "\n",
        "7. Vehicle_Age :\tAge of the Vehicle\n",
        "\n",
        "8. Vehicle_Damage\t :1 : Customer got his/her vehicle damaged in the past. 0 : Customer didn't get his/her vehicle damaged in the past.\n",
        "\n",
        "9. Annual_Premium\t: The amount customer needs to pay as premium in the year\n",
        "\n",
        "10. PolicySalesChannel :\tAnonymized Code for the channel of outreaching to the customer ie. Different Agents, Over Mail, Over Phone, In Person, etc.\n",
        "\n",
        "11. Vintage :\tNumber of Days, Customer has been associated with the company\n",
        "\n",
        "12. Response :\t1 : Customer is interested, 0 : Customer is not interested"
      ]
    },
    {
      "cell_type": "code",
      "source": [
        "# Importing libraries for data handling\n",
        "import pandas as pd\n",
        "import numpy as np\n",
        "\n",
        "# Importing libraries for data visualization\n",
        "import matplotlib.pyplot as plt\n",
        "import seaborn as sns\n",
        "\n",
        "# To avoid the warning that aren't necessarily exceptions\n",
        "import warnings\n",
        "warnings.filterwarnings('ignore')\n",
        "\n",
        "# Feature Engineering libraries\n",
        "from sklearn.model_selection import train_test_split\n",
        "from collections import Counter\n",
        "from sklearn.preprocessing import StandardScaler, OneHotEncoder, LabelEncoder\n",
        "from sklearn.preprocessing import MinMaxScaler\n",
        "\n",
        "# Model Selection and Metrics libraries\n",
        "from sklearn.linear_model import LogisticRegression\n",
        "from sklearn.tree import DecisionTreeClassifier\n",
        "from sklearn.ensemble import RandomForestClassifier\n",
        "import xgboost as xgb\n",
        "from sklearn.metrics import precision_score,recall_score,accuracy_score,f1_score,confusion_matrix,roc_auc_score,classification_report\n",
        "from sklearn.metrics import confusion_matrix,classification_report,plot_confusion_matrix\n",
        "from sklearn.metrics import plot_precision_recall_curve,plot_roc_curve"
      ],
      "metadata": {
        "id": "XCoWaMS8rip6"
      },
      "execution_count": null,
      "outputs": []
    },
    {
      "cell_type": "markdown",
      "source": [
        "## **Import Data**"
      ],
      "metadata": {
        "id": "lZuWl3Qjru4a"
      }
    },
    {
      "cell_type": "code",
      "source": [
        "# Mounting of Device\n",
        "from google.colab import drive\n",
        "drive.mount('/content/drive')"
      ],
      "metadata": {
        "id": "7BW8MZ5YrzDO",
        "outputId": "2b78e916-09b4-4e5d-efa2-1bda2393834f",
        "colab": {
          "base_uri": "https://localhost:8080/"
        }
      },
      "execution_count": null,
      "outputs": [
        {
          "output_type": "stream",
          "name": "stdout",
          "text": [
            "Drive already mounted at /content/drive; to attempt to forcibly remount, call drive.mount(\"/content/drive\", force_remount=True).\n"
          ]
        }
      ]
    },
    {
      "cell_type": "code",
      "source": [
        "import pandas as pd"
      ],
      "metadata": {
        "id": "odLdxph5EGst"
      },
      "execution_count": 1,
      "outputs": []
    },
    {
      "cell_type": "code",
      "source": [
        "# path to csv file\n",
        "path = \"/content/TRAIN-HEALTH INSURANCE CROSS SELL PREDICTION.csv\""
      ],
      "metadata": {
        "id": "5rmWCSl3sMH0"
      },
      "execution_count": 5,
      "outputs": []
    },
    {
      "cell_type": "code",
      "source": [
        "# loding of Data\n",
        "df=pd.read_csv(path)"
      ],
      "metadata": {
        "id": "ERp4k-W4sjvq"
      },
      "execution_count": 6,
      "outputs": []
    },
    {
      "cell_type": "markdown",
      "source": [
        "# **Data** **Summary**"
      ],
      "metadata": {
        "id": "U1IqnAsVszR0"
      }
    },
    {
      "cell_type": "code",
      "source": [
        "df.head()"
      ],
      "metadata": {
        "id": "3AVFN7ioswgD",
        "outputId": "beeb1d95-b5ff-45ca-995c-bfdc2d5cc8a5",
        "colab": {
          "base_uri": "https://localhost:8080/",
          "height": 270
        }
      },
      "execution_count": 7,
      "outputs": [
        {
          "output_type": "execute_result",
          "data": {
            "text/plain": [
              "   id  Gender  Age  Driving_License  Region_Code  Previously_Insured  \\\n",
              "0   1    Male   44                1         28.0                   0   \n",
              "1   2    Male   76                1          3.0                   0   \n",
              "2   3    Male   47                1         28.0                   0   \n",
              "3   4    Male   21                1         11.0                   1   \n",
              "4   5  Female   29                1         41.0                   1   \n",
              "\n",
              "  Vehicle_Age Vehicle_Damage  Annual_Premium  Policy_Sales_Channel  Vintage  \\\n",
              "0   > 2 Years            Yes         40454.0                  26.0      217   \n",
              "1    1-2 Year             No         33536.0                  26.0      183   \n",
              "2   > 2 Years            Yes         38294.0                  26.0       27   \n",
              "3    < 1 Year             No         28619.0                 152.0      203   \n",
              "4    < 1 Year             No         27496.0                 152.0       39   \n",
              "\n",
              "   Response  \n",
              "0         1  \n",
              "1         0  \n",
              "2         1  \n",
              "3         0  \n",
              "4         0  "
            ],
            "text/html": [
              "\n",
              "\n",
              "  <div id=\"df-d6fa1826-10cf-4f2d-b3f0-addf9c4f9aee\">\n",
              "    <div class=\"colab-df-container\">\n",
              "      <div>\n",
              "<style scoped>\n",
              "    .dataframe tbody tr th:only-of-type {\n",
              "        vertical-align: middle;\n",
              "    }\n",
              "\n",
              "    .dataframe tbody tr th {\n",
              "        vertical-align: top;\n",
              "    }\n",
              "\n",
              "    .dataframe thead th {\n",
              "        text-align: right;\n",
              "    }\n",
              "</style>\n",
              "<table border=\"1\" class=\"dataframe\">\n",
              "  <thead>\n",
              "    <tr style=\"text-align: right;\">\n",
              "      <th></th>\n",
              "      <th>id</th>\n",
              "      <th>Gender</th>\n",
              "      <th>Age</th>\n",
              "      <th>Driving_License</th>\n",
              "      <th>Region_Code</th>\n",
              "      <th>Previously_Insured</th>\n",
              "      <th>Vehicle_Age</th>\n",
              "      <th>Vehicle_Damage</th>\n",
              "      <th>Annual_Premium</th>\n",
              "      <th>Policy_Sales_Channel</th>\n",
              "      <th>Vintage</th>\n",
              "      <th>Response</th>\n",
              "    </tr>\n",
              "  </thead>\n",
              "  <tbody>\n",
              "    <tr>\n",
              "      <th>0</th>\n",
              "      <td>1</td>\n",
              "      <td>Male</td>\n",
              "      <td>44</td>\n",
              "      <td>1</td>\n",
              "      <td>28.0</td>\n",
              "      <td>0</td>\n",
              "      <td>&gt; 2 Years</td>\n",
              "      <td>Yes</td>\n",
              "      <td>40454.0</td>\n",
              "      <td>26.0</td>\n",
              "      <td>217</td>\n",
              "      <td>1</td>\n",
              "    </tr>\n",
              "    <tr>\n",
              "      <th>1</th>\n",
              "      <td>2</td>\n",
              "      <td>Male</td>\n",
              "      <td>76</td>\n",
              "      <td>1</td>\n",
              "      <td>3.0</td>\n",
              "      <td>0</td>\n",
              "      <td>1-2 Year</td>\n",
              "      <td>No</td>\n",
              "      <td>33536.0</td>\n",
              "      <td>26.0</td>\n",
              "      <td>183</td>\n",
              "      <td>0</td>\n",
              "    </tr>\n",
              "    <tr>\n",
              "      <th>2</th>\n",
              "      <td>3</td>\n",
              "      <td>Male</td>\n",
              "      <td>47</td>\n",
              "      <td>1</td>\n",
              "      <td>28.0</td>\n",
              "      <td>0</td>\n",
              "      <td>&gt; 2 Years</td>\n",
              "      <td>Yes</td>\n",
              "      <td>38294.0</td>\n",
              "      <td>26.0</td>\n",
              "      <td>27</td>\n",
              "      <td>1</td>\n",
              "    </tr>\n",
              "    <tr>\n",
              "      <th>3</th>\n",
              "      <td>4</td>\n",
              "      <td>Male</td>\n",
              "      <td>21</td>\n",
              "      <td>1</td>\n",
              "      <td>11.0</td>\n",
              "      <td>1</td>\n",
              "      <td>&lt; 1 Year</td>\n",
              "      <td>No</td>\n",
              "      <td>28619.0</td>\n",
              "      <td>152.0</td>\n",
              "      <td>203</td>\n",
              "      <td>0</td>\n",
              "    </tr>\n",
              "    <tr>\n",
              "      <th>4</th>\n",
              "      <td>5</td>\n",
              "      <td>Female</td>\n",
              "      <td>29</td>\n",
              "      <td>1</td>\n",
              "      <td>41.0</td>\n",
              "      <td>1</td>\n",
              "      <td>&lt; 1 Year</td>\n",
              "      <td>No</td>\n",
              "      <td>27496.0</td>\n",
              "      <td>152.0</td>\n",
              "      <td>39</td>\n",
              "      <td>0</td>\n",
              "    </tr>\n",
              "  </tbody>\n",
              "</table>\n",
              "</div>\n",
              "      <button class=\"colab-df-convert\" onclick=\"convertToInteractive('df-d6fa1826-10cf-4f2d-b3f0-addf9c4f9aee')\"\n",
              "              title=\"Convert this dataframe to an interactive table.\"\n",
              "              style=\"display:none;\">\n",
              "\n",
              "  <svg xmlns=\"http://www.w3.org/2000/svg\" height=\"24px\"viewBox=\"0 0 24 24\"\n",
              "       width=\"24px\">\n",
              "    <path d=\"M0 0h24v24H0V0z\" fill=\"none\"/>\n",
              "    <path d=\"M18.56 5.44l.94 2.06.94-2.06 2.06-.94-2.06-.94-.94-2.06-.94 2.06-2.06.94zm-11 1L8.5 8.5l.94-2.06 2.06-.94-2.06-.94L8.5 2.5l-.94 2.06-2.06.94zm10 10l.94 2.06.94-2.06 2.06-.94-2.06-.94-.94-2.06-.94 2.06-2.06.94z\"/><path d=\"M17.41 7.96l-1.37-1.37c-.4-.4-.92-.59-1.43-.59-.52 0-1.04.2-1.43.59L10.3 9.45l-7.72 7.72c-.78.78-.78 2.05 0 2.83L4 21.41c.39.39.9.59 1.41.59.51 0 1.02-.2 1.41-.59l7.78-7.78 2.81-2.81c.8-.78.8-2.07 0-2.86zM5.41 20L4 18.59l7.72-7.72 1.47 1.35L5.41 20z\"/>\n",
              "  </svg>\n",
              "      </button>\n",
              "\n",
              "\n",
              "\n",
              "    <div id=\"df-2286f86e-5e74-4a6f-a576-85e3abd2645b\">\n",
              "      <button class=\"colab-df-quickchart\" onclick=\"quickchart('df-2286f86e-5e74-4a6f-a576-85e3abd2645b')\"\n",
              "              title=\"Suggest charts.\"\n",
              "              style=\"display:none;\">\n",
              "\n",
              "<svg xmlns=\"http://www.w3.org/2000/svg\" height=\"24px\"viewBox=\"0 0 24 24\"\n",
              "     width=\"24px\">\n",
              "    <g>\n",
              "        <path d=\"M19 3H5c-1.1 0-2 .9-2 2v14c0 1.1.9 2 2 2h14c1.1 0 2-.9 2-2V5c0-1.1-.9-2-2-2zM9 17H7v-7h2v7zm4 0h-2V7h2v10zm4 0h-2v-4h2v4z\"/>\n",
              "    </g>\n",
              "</svg>\n",
              "      </button>\n",
              "    </div>\n",
              "\n",
              "<style>\n",
              "  .colab-df-quickchart {\n",
              "    background-color: #E8F0FE;\n",
              "    border: none;\n",
              "    border-radius: 50%;\n",
              "    cursor: pointer;\n",
              "    display: none;\n",
              "    fill: #1967D2;\n",
              "    height: 32px;\n",
              "    padding: 0 0 0 0;\n",
              "    width: 32px;\n",
              "  }\n",
              "\n",
              "  .colab-df-quickchart:hover {\n",
              "    background-color: #E2EBFA;\n",
              "    box-shadow: 0px 1px 2px rgba(60, 64, 67, 0.3), 0px 1px 3px 1px rgba(60, 64, 67, 0.15);\n",
              "    fill: #174EA6;\n",
              "  }\n",
              "\n",
              "  [theme=dark] .colab-df-quickchart {\n",
              "    background-color: #3B4455;\n",
              "    fill: #D2E3FC;\n",
              "  }\n",
              "\n",
              "  [theme=dark] .colab-df-quickchart:hover {\n",
              "    background-color: #434B5C;\n",
              "    box-shadow: 0px 1px 3px 1px rgba(0, 0, 0, 0.15);\n",
              "    filter: drop-shadow(0px 1px 2px rgba(0, 0, 0, 0.3));\n",
              "    fill: #FFFFFF;\n",
              "  }\n",
              "</style>\n",
              "\n",
              "    <script>\n",
              "      async function quickchart(key) {\n",
              "        const containerElement = document.querySelector('#' + key);\n",
              "        const charts = await google.colab.kernel.invokeFunction(\n",
              "            'suggestCharts', [key], {});\n",
              "      }\n",
              "    </script>\n",
              "\n",
              "      <script>\n",
              "\n",
              "function displayQuickchartButton(domScope) {\n",
              "  let quickchartButtonEl =\n",
              "    domScope.querySelector('#df-2286f86e-5e74-4a6f-a576-85e3abd2645b button.colab-df-quickchart');\n",
              "  quickchartButtonEl.style.display =\n",
              "    google.colab.kernel.accessAllowed ? 'block' : 'none';\n",
              "}\n",
              "\n",
              "        displayQuickchartButton(document);\n",
              "      </script>\n",
              "      <style>\n",
              "    .colab-df-container {\n",
              "      display:flex;\n",
              "      flex-wrap:wrap;\n",
              "      gap: 12px;\n",
              "    }\n",
              "\n",
              "    .colab-df-convert {\n",
              "      background-color: #E8F0FE;\n",
              "      border: none;\n",
              "      border-radius: 50%;\n",
              "      cursor: pointer;\n",
              "      display: none;\n",
              "      fill: #1967D2;\n",
              "      height: 32px;\n",
              "      padding: 0 0 0 0;\n",
              "      width: 32px;\n",
              "    }\n",
              "\n",
              "    .colab-df-convert:hover {\n",
              "      background-color: #E2EBFA;\n",
              "      box-shadow: 0px 1px 2px rgba(60, 64, 67, 0.3), 0px 1px 3px 1px rgba(60, 64, 67, 0.15);\n",
              "      fill: #174EA6;\n",
              "    }\n",
              "\n",
              "    [theme=dark] .colab-df-convert {\n",
              "      background-color: #3B4455;\n",
              "      fill: #D2E3FC;\n",
              "    }\n",
              "\n",
              "    [theme=dark] .colab-df-convert:hover {\n",
              "      background-color: #434B5C;\n",
              "      box-shadow: 0px 1px 3px 1px rgba(0, 0, 0, 0.15);\n",
              "      filter: drop-shadow(0px 1px 2px rgba(0, 0, 0, 0.3));\n",
              "      fill: #FFFFFF;\n",
              "    }\n",
              "  </style>\n",
              "\n",
              "      <script>\n",
              "        const buttonEl =\n",
              "          document.querySelector('#df-d6fa1826-10cf-4f2d-b3f0-addf9c4f9aee button.colab-df-convert');\n",
              "        buttonEl.style.display =\n",
              "          google.colab.kernel.accessAllowed ? 'block' : 'none';\n",
              "\n",
              "        async function convertToInteractive(key) {\n",
              "          const element = document.querySelector('#df-d6fa1826-10cf-4f2d-b3f0-addf9c4f9aee');\n",
              "          const dataTable =\n",
              "            await google.colab.kernel.invokeFunction('convertToInteractive',\n",
              "                                                     [key], {});\n",
              "          if (!dataTable) return;\n",
              "\n",
              "          const docLinkHtml = 'Like what you see? Visit the ' +\n",
              "            '<a target=\"_blank\" href=https://colab.research.google.com/notebooks/data_table.ipynb>data table notebook</a>'\n",
              "            + ' to learn more about interactive tables.';\n",
              "          element.innerHTML = '';\n",
              "          dataTable['output_type'] = 'display_data';\n",
              "          await google.colab.output.renderOutput(dataTable, element);\n",
              "          const docLink = document.createElement('div');\n",
              "          docLink.innerHTML = docLinkHtml;\n",
              "          element.appendChild(docLink);\n",
              "        }\n",
              "      </script>\n",
              "    </div>\n",
              "  </div>\n"
            ]
          },
          "metadata": {},
          "execution_count": 7
        }
      ]
    },
    {
      "cell_type": "code",
      "source": [
        "df.tail()"
      ],
      "metadata": {
        "id": "0sBJCv14tbPd",
        "outputId": "ab0b6e29-8a67-4854-c914-0a55baec0aca",
        "colab": {
          "base_uri": "https://localhost:8080/",
          "height": 270
        }
      },
      "execution_count": null,
      "outputs": [
        {
          "output_type": "execute_result",
          "data": {
            "text/plain": [
              "            id  Gender  Age  Driving_License  Region_Code  Previously_Insured  \\\n",
              "381104  381105    Male   74                1         26.0                   1   \n",
              "381105  381106    Male   30                1         37.0                   1   \n",
              "381106  381107    Male   21                1         30.0                   1   \n",
              "381107  381108  Female   68                1         14.0                   0   \n",
              "381108  381109    Male   46                1         29.0                   0   \n",
              "\n",
              "       Vehicle_Age Vehicle_Damage  Annual_Premium  Policy_Sales_Channel  \\\n",
              "381104    1-2 Year             No         30170.0                  26.0   \n",
              "381105    < 1 Year             No         40016.0                 152.0   \n",
              "381106    < 1 Year             No         35118.0                 160.0   \n",
              "381107   > 2 Years            Yes         44617.0                 124.0   \n",
              "381108    1-2 Year             No         41777.0                  26.0   \n",
              "\n",
              "        Vintage  Response  \n",
              "381104       88         0  \n",
              "381105      131         0  \n",
              "381106      161         0  \n",
              "381107       74         0  \n",
              "381108      237         0  "
            ],
            "text/html": [
              "\n",
              "  <div id=\"df-afe69527-d33c-47db-ab33-2c6d8592b188\">\n",
              "    <div class=\"colab-df-container\">\n",
              "      <div>\n",
              "<style scoped>\n",
              "    .dataframe tbody tr th:only-of-type {\n",
              "        vertical-align: middle;\n",
              "    }\n",
              "\n",
              "    .dataframe tbody tr th {\n",
              "        vertical-align: top;\n",
              "    }\n",
              "\n",
              "    .dataframe thead th {\n",
              "        text-align: right;\n",
              "    }\n",
              "</style>\n",
              "<table border=\"1\" class=\"dataframe\">\n",
              "  <thead>\n",
              "    <tr style=\"text-align: right;\">\n",
              "      <th></th>\n",
              "      <th>id</th>\n",
              "      <th>Gender</th>\n",
              "      <th>Age</th>\n",
              "      <th>Driving_License</th>\n",
              "      <th>Region_Code</th>\n",
              "      <th>Previously_Insured</th>\n",
              "      <th>Vehicle_Age</th>\n",
              "      <th>Vehicle_Damage</th>\n",
              "      <th>Annual_Premium</th>\n",
              "      <th>Policy_Sales_Channel</th>\n",
              "      <th>Vintage</th>\n",
              "      <th>Response</th>\n",
              "    </tr>\n",
              "  </thead>\n",
              "  <tbody>\n",
              "    <tr>\n",
              "      <th>381104</th>\n",
              "      <td>381105</td>\n",
              "      <td>Male</td>\n",
              "      <td>74</td>\n",
              "      <td>1</td>\n",
              "      <td>26.0</td>\n",
              "      <td>1</td>\n",
              "      <td>1-2 Year</td>\n",
              "      <td>No</td>\n",
              "      <td>30170.0</td>\n",
              "      <td>26.0</td>\n",
              "      <td>88</td>\n",
              "      <td>0</td>\n",
              "    </tr>\n",
              "    <tr>\n",
              "      <th>381105</th>\n",
              "      <td>381106</td>\n",
              "      <td>Male</td>\n",
              "      <td>30</td>\n",
              "      <td>1</td>\n",
              "      <td>37.0</td>\n",
              "      <td>1</td>\n",
              "      <td>&lt; 1 Year</td>\n",
              "      <td>No</td>\n",
              "      <td>40016.0</td>\n",
              "      <td>152.0</td>\n",
              "      <td>131</td>\n",
              "      <td>0</td>\n",
              "    </tr>\n",
              "    <tr>\n",
              "      <th>381106</th>\n",
              "      <td>381107</td>\n",
              "      <td>Male</td>\n",
              "      <td>21</td>\n",
              "      <td>1</td>\n",
              "      <td>30.0</td>\n",
              "      <td>1</td>\n",
              "      <td>&lt; 1 Year</td>\n",
              "      <td>No</td>\n",
              "      <td>35118.0</td>\n",
              "      <td>160.0</td>\n",
              "      <td>161</td>\n",
              "      <td>0</td>\n",
              "    </tr>\n",
              "    <tr>\n",
              "      <th>381107</th>\n",
              "      <td>381108</td>\n",
              "      <td>Female</td>\n",
              "      <td>68</td>\n",
              "      <td>1</td>\n",
              "      <td>14.0</td>\n",
              "      <td>0</td>\n",
              "      <td>&gt; 2 Years</td>\n",
              "      <td>Yes</td>\n",
              "      <td>44617.0</td>\n",
              "      <td>124.0</td>\n",
              "      <td>74</td>\n",
              "      <td>0</td>\n",
              "    </tr>\n",
              "    <tr>\n",
              "      <th>381108</th>\n",
              "      <td>381109</td>\n",
              "      <td>Male</td>\n",
              "      <td>46</td>\n",
              "      <td>1</td>\n",
              "      <td>29.0</td>\n",
              "      <td>0</td>\n",
              "      <td>1-2 Year</td>\n",
              "      <td>No</td>\n",
              "      <td>41777.0</td>\n",
              "      <td>26.0</td>\n",
              "      <td>237</td>\n",
              "      <td>0</td>\n",
              "    </tr>\n",
              "  </tbody>\n",
              "</table>\n",
              "</div>\n",
              "      <button class=\"colab-df-convert\" onclick=\"convertToInteractive('df-afe69527-d33c-47db-ab33-2c6d8592b188')\"\n",
              "              title=\"Convert this dataframe to an interactive table.\"\n",
              "              style=\"display:none;\">\n",
              "        \n",
              "  <svg xmlns=\"http://www.w3.org/2000/svg\" height=\"24px\"viewBox=\"0 0 24 24\"\n",
              "       width=\"24px\">\n",
              "    <path d=\"M0 0h24v24H0V0z\" fill=\"none\"/>\n",
              "    <path d=\"M18.56 5.44l.94 2.06.94-2.06 2.06-.94-2.06-.94-.94-2.06-.94 2.06-2.06.94zm-11 1L8.5 8.5l.94-2.06 2.06-.94-2.06-.94L8.5 2.5l-.94 2.06-2.06.94zm10 10l.94 2.06.94-2.06 2.06-.94-2.06-.94-.94-2.06-.94 2.06-2.06.94z\"/><path d=\"M17.41 7.96l-1.37-1.37c-.4-.4-.92-.59-1.43-.59-.52 0-1.04.2-1.43.59L10.3 9.45l-7.72 7.72c-.78.78-.78 2.05 0 2.83L4 21.41c.39.39.9.59 1.41.59.51 0 1.02-.2 1.41-.59l7.78-7.78 2.81-2.81c.8-.78.8-2.07 0-2.86zM5.41 20L4 18.59l7.72-7.72 1.47 1.35L5.41 20z\"/>\n",
              "  </svg>\n",
              "      </button>\n",
              "      \n",
              "  <style>\n",
              "    .colab-df-container {\n",
              "      display:flex;\n",
              "      flex-wrap:wrap;\n",
              "      gap: 12px;\n",
              "    }\n",
              "\n",
              "    .colab-df-convert {\n",
              "      background-color: #E8F0FE;\n",
              "      border: none;\n",
              "      border-radius: 50%;\n",
              "      cursor: pointer;\n",
              "      display: none;\n",
              "      fill: #1967D2;\n",
              "      height: 32px;\n",
              "      padding: 0 0 0 0;\n",
              "      width: 32px;\n",
              "    }\n",
              "\n",
              "    .colab-df-convert:hover {\n",
              "      background-color: #E2EBFA;\n",
              "      box-shadow: 0px 1px 2px rgba(60, 64, 67, 0.3), 0px 1px 3px 1px rgba(60, 64, 67, 0.15);\n",
              "      fill: #174EA6;\n",
              "    }\n",
              "\n",
              "    [theme=dark] .colab-df-convert {\n",
              "      background-color: #3B4455;\n",
              "      fill: #D2E3FC;\n",
              "    }\n",
              "\n",
              "    [theme=dark] .colab-df-convert:hover {\n",
              "      background-color: #434B5C;\n",
              "      box-shadow: 0px 1px 3px 1px rgba(0, 0, 0, 0.15);\n",
              "      filter: drop-shadow(0px 1px 2px rgba(0, 0, 0, 0.3));\n",
              "      fill: #FFFFFF;\n",
              "    }\n",
              "  </style>\n",
              "\n",
              "      <script>\n",
              "        const buttonEl =\n",
              "          document.querySelector('#df-afe69527-d33c-47db-ab33-2c6d8592b188 button.colab-df-convert');\n",
              "        buttonEl.style.display =\n",
              "          google.colab.kernel.accessAllowed ? 'block' : 'none';\n",
              "\n",
              "        async function convertToInteractive(key) {\n",
              "          const element = document.querySelector('#df-afe69527-d33c-47db-ab33-2c6d8592b188');\n",
              "          const dataTable =\n",
              "            await google.colab.kernel.invokeFunction('convertToInteractive',\n",
              "                                                     [key], {});\n",
              "          if (!dataTable) return;\n",
              "\n",
              "          const docLinkHtml = 'Like what you see? Visit the ' +\n",
              "            '<a target=\"_blank\" href=https://colab.research.google.com/notebooks/data_table.ipynb>data table notebook</a>'\n",
              "            + ' to learn more about interactive tables.';\n",
              "          element.innerHTML = '';\n",
              "          dataTable['output_type'] = 'display_data';\n",
              "          await google.colab.output.renderOutput(dataTable, element);\n",
              "          const docLink = document.createElement('div');\n",
              "          docLink.innerHTML = docLinkHtml;\n",
              "          element.appendChild(docLink);\n",
              "        }\n",
              "      </script>\n",
              "    </div>\n",
              "  </div>\n",
              "  "
            ]
          },
          "metadata": {},
          "execution_count": 114
        }
      ]
    },
    {
      "cell_type": "code",
      "source": [
        "# Size of dataset\n",
        "df.shape"
      ],
      "metadata": {
        "id": "RtleqzIFtxxC",
        "outputId": "a1ead6b2-78cb-4b93-937f-fdfa79bd36a9",
        "colab": {
          "base_uri": "https://localhost:8080/"
        }
      },
      "execution_count": null,
      "outputs": [
        {
          "output_type": "execute_result",
          "data": {
            "text/plain": [
              "(381109, 12)"
            ]
          },
          "metadata": {},
          "execution_count": 115
        }
      ]
    },
    {
      "cell_type": "code",
      "source": [
        "df.info()"
      ],
      "metadata": {
        "id": "nYP0_CZvt-Ua",
        "outputId": "c8ef43d5-9887-4dc1-8a82-a8083089fa87",
        "colab": {
          "base_uri": "https://localhost:8080/"
        }
      },
      "execution_count": null,
      "outputs": [
        {
          "output_type": "stream",
          "name": "stdout",
          "text": [
            "<class 'pandas.core.frame.DataFrame'>\n",
            "RangeIndex: 381109 entries, 0 to 381108\n",
            "Data columns (total 12 columns):\n",
            " #   Column                Non-Null Count   Dtype  \n",
            "---  ------                --------------   -----  \n",
            " 0   id                    381109 non-null  int64  \n",
            " 1   Gender                381109 non-null  object \n",
            " 2   Age                   381109 non-null  int64  \n",
            " 3   Driving_License       381109 non-null  int64  \n",
            " 4   Region_Code           381109 non-null  float64\n",
            " 5   Previously_Insured    381109 non-null  int64  \n",
            " 6   Vehicle_Age           381109 non-null  object \n",
            " 7   Vehicle_Damage        381109 non-null  object \n",
            " 8   Annual_Premium        381109 non-null  float64\n",
            " 9   Policy_Sales_Channel  381109 non-null  float64\n",
            " 10  Vintage               381109 non-null  int64  \n",
            " 11  Response              381109 non-null  int64  \n",
            "dtypes: float64(3), int64(6), object(3)\n",
            "memory usage: 34.9+ MB\n"
          ]
        }
      ]
    },
    {
      "cell_type": "markdown",
      "source": [
        "\n",
        "\n",
        "*   As per the above observations no null values\n",
        "\n",
        "*  Dataset consists of 381109 rowes and 12 columns\n"
      ],
      "metadata": {
        "id": "KyKkISYAuMKi"
      }
    },
    {
      "cell_type": "code",
      "source": [
        "df.describe()"
      ],
      "metadata": {
        "id": "3BSPWbbyuD-C",
        "outputId": "ee0b423e-dd53-4f44-83fd-5ecfc3d0cfa7",
        "colab": {
          "base_uri": "https://localhost:8080/",
          "height": 364
        }
      },
      "execution_count": null,
      "outputs": [
        {
          "output_type": "execute_result",
          "data": {
            "text/plain": [
              "                  id            Age  Driving_License    Region_Code  \\\n",
              "count  381109.000000  381109.000000    381109.000000  381109.000000   \n",
              "mean   190555.000000      38.822584         0.997869      26.388807   \n",
              "std    110016.836208      15.511611         0.046110      13.229888   \n",
              "min         1.000000      20.000000         0.000000       0.000000   \n",
              "25%     95278.000000      25.000000         1.000000      15.000000   \n",
              "50%    190555.000000      36.000000         1.000000      28.000000   \n",
              "75%    285832.000000      49.000000         1.000000      35.000000   \n",
              "max    381109.000000      85.000000         1.000000      52.000000   \n",
              "\n",
              "       Previously_Insured  Annual_Premium  Policy_Sales_Channel  \\\n",
              "count       381109.000000   381109.000000         381109.000000   \n",
              "mean             0.458210    30564.389581            112.034295   \n",
              "std              0.498251    17213.155057             54.203995   \n",
              "min              0.000000     2630.000000              1.000000   \n",
              "25%              0.000000    24405.000000             29.000000   \n",
              "50%              0.000000    31669.000000            133.000000   \n",
              "75%              1.000000    39400.000000            152.000000   \n",
              "max              1.000000   540165.000000            163.000000   \n",
              "\n",
              "             Vintage       Response  \n",
              "count  381109.000000  381109.000000  \n",
              "mean      154.347397       0.122563  \n",
              "std        83.671304       0.327936  \n",
              "min        10.000000       0.000000  \n",
              "25%        82.000000       0.000000  \n",
              "50%       154.000000       0.000000  \n",
              "75%       227.000000       0.000000  \n",
              "max       299.000000       1.000000  "
            ],
            "text/html": [
              "\n",
              "  <div id=\"df-b95af55e-7330-4ac1-ba92-c0e00357093a\">\n",
              "    <div class=\"colab-df-container\">\n",
              "      <div>\n",
              "<style scoped>\n",
              "    .dataframe tbody tr th:only-of-type {\n",
              "        vertical-align: middle;\n",
              "    }\n",
              "\n",
              "    .dataframe tbody tr th {\n",
              "        vertical-align: top;\n",
              "    }\n",
              "\n",
              "    .dataframe thead th {\n",
              "        text-align: right;\n",
              "    }\n",
              "</style>\n",
              "<table border=\"1\" class=\"dataframe\">\n",
              "  <thead>\n",
              "    <tr style=\"text-align: right;\">\n",
              "      <th></th>\n",
              "      <th>id</th>\n",
              "      <th>Age</th>\n",
              "      <th>Driving_License</th>\n",
              "      <th>Region_Code</th>\n",
              "      <th>Previously_Insured</th>\n",
              "      <th>Annual_Premium</th>\n",
              "      <th>Policy_Sales_Channel</th>\n",
              "      <th>Vintage</th>\n",
              "      <th>Response</th>\n",
              "    </tr>\n",
              "  </thead>\n",
              "  <tbody>\n",
              "    <tr>\n",
              "      <th>count</th>\n",
              "      <td>381109.000000</td>\n",
              "      <td>381109.000000</td>\n",
              "      <td>381109.000000</td>\n",
              "      <td>381109.000000</td>\n",
              "      <td>381109.000000</td>\n",
              "      <td>381109.000000</td>\n",
              "      <td>381109.000000</td>\n",
              "      <td>381109.000000</td>\n",
              "      <td>381109.000000</td>\n",
              "    </tr>\n",
              "    <tr>\n",
              "      <th>mean</th>\n",
              "      <td>190555.000000</td>\n",
              "      <td>38.822584</td>\n",
              "      <td>0.997869</td>\n",
              "      <td>26.388807</td>\n",
              "      <td>0.458210</td>\n",
              "      <td>30564.389581</td>\n",
              "      <td>112.034295</td>\n",
              "      <td>154.347397</td>\n",
              "      <td>0.122563</td>\n",
              "    </tr>\n",
              "    <tr>\n",
              "      <th>std</th>\n",
              "      <td>110016.836208</td>\n",
              "      <td>15.511611</td>\n",
              "      <td>0.046110</td>\n",
              "      <td>13.229888</td>\n",
              "      <td>0.498251</td>\n",
              "      <td>17213.155057</td>\n",
              "      <td>54.203995</td>\n",
              "      <td>83.671304</td>\n",
              "      <td>0.327936</td>\n",
              "    </tr>\n",
              "    <tr>\n",
              "      <th>min</th>\n",
              "      <td>1.000000</td>\n",
              "      <td>20.000000</td>\n",
              "      <td>0.000000</td>\n",
              "      <td>0.000000</td>\n",
              "      <td>0.000000</td>\n",
              "      <td>2630.000000</td>\n",
              "      <td>1.000000</td>\n",
              "      <td>10.000000</td>\n",
              "      <td>0.000000</td>\n",
              "    </tr>\n",
              "    <tr>\n",
              "      <th>25%</th>\n",
              "      <td>95278.000000</td>\n",
              "      <td>25.000000</td>\n",
              "      <td>1.000000</td>\n",
              "      <td>15.000000</td>\n",
              "      <td>0.000000</td>\n",
              "      <td>24405.000000</td>\n",
              "      <td>29.000000</td>\n",
              "      <td>82.000000</td>\n",
              "      <td>0.000000</td>\n",
              "    </tr>\n",
              "    <tr>\n",
              "      <th>50%</th>\n",
              "      <td>190555.000000</td>\n",
              "      <td>36.000000</td>\n",
              "      <td>1.000000</td>\n",
              "      <td>28.000000</td>\n",
              "      <td>0.000000</td>\n",
              "      <td>31669.000000</td>\n",
              "      <td>133.000000</td>\n",
              "      <td>154.000000</td>\n",
              "      <td>0.000000</td>\n",
              "    </tr>\n",
              "    <tr>\n",
              "      <th>75%</th>\n",
              "      <td>285832.000000</td>\n",
              "      <td>49.000000</td>\n",
              "      <td>1.000000</td>\n",
              "      <td>35.000000</td>\n",
              "      <td>1.000000</td>\n",
              "      <td>39400.000000</td>\n",
              "      <td>152.000000</td>\n",
              "      <td>227.000000</td>\n",
              "      <td>0.000000</td>\n",
              "    </tr>\n",
              "    <tr>\n",
              "      <th>max</th>\n",
              "      <td>381109.000000</td>\n",
              "      <td>85.000000</td>\n",
              "      <td>1.000000</td>\n",
              "      <td>52.000000</td>\n",
              "      <td>1.000000</td>\n",
              "      <td>540165.000000</td>\n",
              "      <td>163.000000</td>\n",
              "      <td>299.000000</td>\n",
              "      <td>1.000000</td>\n",
              "    </tr>\n",
              "  </tbody>\n",
              "</table>\n",
              "</div>\n",
              "      <button class=\"colab-df-convert\" onclick=\"convertToInteractive('df-b95af55e-7330-4ac1-ba92-c0e00357093a')\"\n",
              "              title=\"Convert this dataframe to an interactive table.\"\n",
              "              style=\"display:none;\">\n",
              "        \n",
              "  <svg xmlns=\"http://www.w3.org/2000/svg\" height=\"24px\"viewBox=\"0 0 24 24\"\n",
              "       width=\"24px\">\n",
              "    <path d=\"M0 0h24v24H0V0z\" fill=\"none\"/>\n",
              "    <path d=\"M18.56 5.44l.94 2.06.94-2.06 2.06-.94-2.06-.94-.94-2.06-.94 2.06-2.06.94zm-11 1L8.5 8.5l.94-2.06 2.06-.94-2.06-.94L8.5 2.5l-.94 2.06-2.06.94zm10 10l.94 2.06.94-2.06 2.06-.94-2.06-.94-.94-2.06-.94 2.06-2.06.94z\"/><path d=\"M17.41 7.96l-1.37-1.37c-.4-.4-.92-.59-1.43-.59-.52 0-1.04.2-1.43.59L10.3 9.45l-7.72 7.72c-.78.78-.78 2.05 0 2.83L4 21.41c.39.39.9.59 1.41.59.51 0 1.02-.2 1.41-.59l7.78-7.78 2.81-2.81c.8-.78.8-2.07 0-2.86zM5.41 20L4 18.59l7.72-7.72 1.47 1.35L5.41 20z\"/>\n",
              "  </svg>\n",
              "      </button>\n",
              "      \n",
              "  <style>\n",
              "    .colab-df-container {\n",
              "      display:flex;\n",
              "      flex-wrap:wrap;\n",
              "      gap: 12px;\n",
              "    }\n",
              "\n",
              "    .colab-df-convert {\n",
              "      background-color: #E8F0FE;\n",
              "      border: none;\n",
              "      border-radius: 50%;\n",
              "      cursor: pointer;\n",
              "      display: none;\n",
              "      fill: #1967D2;\n",
              "      height: 32px;\n",
              "      padding: 0 0 0 0;\n",
              "      width: 32px;\n",
              "    }\n",
              "\n",
              "    .colab-df-convert:hover {\n",
              "      background-color: #E2EBFA;\n",
              "      box-shadow: 0px 1px 2px rgba(60, 64, 67, 0.3), 0px 1px 3px 1px rgba(60, 64, 67, 0.15);\n",
              "      fill: #174EA6;\n",
              "    }\n",
              "\n",
              "    [theme=dark] .colab-df-convert {\n",
              "      background-color: #3B4455;\n",
              "      fill: #D2E3FC;\n",
              "    }\n",
              "\n",
              "    [theme=dark] .colab-df-convert:hover {\n",
              "      background-color: #434B5C;\n",
              "      box-shadow: 0px 1px 3px 1px rgba(0, 0, 0, 0.15);\n",
              "      filter: drop-shadow(0px 1px 2px rgba(0, 0, 0, 0.3));\n",
              "      fill: #FFFFFF;\n",
              "    }\n",
              "  </style>\n",
              "\n",
              "      <script>\n",
              "        const buttonEl =\n",
              "          document.querySelector('#df-b95af55e-7330-4ac1-ba92-c0e00357093a button.colab-df-convert');\n",
              "        buttonEl.style.display =\n",
              "          google.colab.kernel.accessAllowed ? 'block' : 'none';\n",
              "\n",
              "        async function convertToInteractive(key) {\n",
              "          const element = document.querySelector('#df-b95af55e-7330-4ac1-ba92-c0e00357093a');\n",
              "          const dataTable =\n",
              "            await google.colab.kernel.invokeFunction('convertToInteractive',\n",
              "                                                     [key], {});\n",
              "          if (!dataTable) return;\n",
              "\n",
              "          const docLinkHtml = 'Like what you see? Visit the ' +\n",
              "            '<a target=\"_blank\" href=https://colab.research.google.com/notebooks/data_table.ipynb>data table notebook</a>'\n",
              "            + ' to learn more about interactive tables.';\n",
              "          element.innerHTML = '';\n",
              "          dataTable['output_type'] = 'display_data';\n",
              "          await google.colab.output.renderOutput(dataTable, element);\n",
              "          const docLink = document.createElement('div');\n",
              "          docLink.innerHTML = docLinkHtml;\n",
              "          element.appendChild(docLink);\n",
              "        }\n",
              "      </script>\n",
              "    </div>\n",
              "  </div>\n",
              "  "
            ]
          },
          "metadata": {},
          "execution_count": 117
        }
      ]
    },
    {
      "cell_type": "code",
      "source": [
        "# check uniqe value of features\n",
        "df.nunique()"
      ],
      "metadata": {
        "id": "hdQSpvwtuuDN",
        "outputId": "411308dc-d591-4e6c-8371-8f4d691612d4",
        "colab": {
          "base_uri": "https://localhost:8080/"
        }
      },
      "execution_count": null,
      "outputs": [
        {
          "output_type": "execute_result",
          "data": {
            "text/plain": [
              "id                      381109\n",
              "Gender                       2\n",
              "Age                         66\n",
              "Driving_License              2\n",
              "Region_Code                 53\n",
              "Previously_Insured           2\n",
              "Vehicle_Age                  3\n",
              "Vehicle_Damage               2\n",
              "Annual_Premium           48838\n",
              "Policy_Sales_Channel       155\n",
              "Vintage                    290\n",
              "Response                     2\n",
              "dtype: int64"
            ]
          },
          "metadata": {},
          "execution_count": 118
        }
      ]
    },
    {
      "cell_type": "code",
      "source": [
        "# cheking duplicates\n",
        "df.duplicated().sum()"
      ],
      "metadata": {
        "id": "EPCWCQ_wvEvJ",
        "outputId": "bfa65f6e-7ca5-436b-d55f-08f832ceac36",
        "colab": {
          "base_uri": "https://localhost:8080/"
        }
      },
      "execution_count": null,
      "outputs": [
        {
          "output_type": "execute_result",
          "data": {
            "text/plain": [
              "0"
            ]
          },
          "metadata": {},
          "execution_count": 119
        }
      ]
    },
    {
      "cell_type": "markdown",
      "source": [
        "NO duplicates value in the data set"
      ],
      "metadata": {
        "id": "0cQHtIQfvXeC"
      }
    },
    {
      "cell_type": "markdown",
      "source": [
        "# **Exploratory** **Data** **Analysis**"
      ],
      "metadata": {
        "id": "wYNirFuQvdob"
      }
    },
    {
      "cell_type": "code",
      "source": [
        "# Target variable responce 0 = not intersted & 1 = intersted in insurance\n",
        "fig, axes = plt.subplots(ncols=2,figsize=(20,10))\n",
        "sns.countplot(df['Response'],data=df,ax=axes[0])\n",
        "plt.title('Not-interested vs intersted',fontsize=20)\n",
        "df['Response'].value_counts().plot.pie(autopct = '%.1f%%',ax = axes[1],explode = [0.02,0.02],colors='r')\n",
        "plt.show()"
      ],
      "metadata": {
        "id": "OEao4VrsvOXF",
        "outputId": "55a8295f-d5ba-4ad4-8e7e-f7908242ce1a",
        "colab": {
          "base_uri": "https://localhost:8080/",
          "height": 338
        }
      },
      "execution_count": null,
      "outputs": [
        {
          "output_type": "display_data",
          "data": {
            "text/plain": [
              "<Figure size 1440x720 with 2 Axes>"
            ],
            "image/png": "[encoded data removed]"
          },
          "metadata": {
            "needs_background": "light"
          }
        }
      ]
    },
    {
      "cell_type": "markdown",
      "source": [
        "The dataset is an imbalance problem the value of variable 1 is significantly lower than zero."
      ],
      "metadata": {
        "id": "RIas5iSURL4m"
      }
    },
    {
      "cell_type": "code",
      "execution_count": null,
      "metadata": {
        "colab": {
          "base_uri": "https://localhost:8080/",
          "height": 334
        },
        "id": "W5ZtaZKJ902c",
        "outputId": "215ff365-11ba-48a7-e49d-f802be4aabc4"
      },
      "outputs": [
        {
          "output_type": "display_data",
          "data": {
            "text/plain": [
              "<Figure size 1080x504 with 2 Axes>"
            ],
            "image/png": "[encoded data removed]"
          },
          "metadata": {
            "needs_background": "light"
          }
        }
      ],
      "source": [
        "# Analyzing Gender feature and it's effect on response feature\n",
        "fig, axes = plt.subplots(ncols=2,figsize=(20,5))\n",
        "colors = ['#4F6272', '#B7C3F3', '#DD7596', '#8EB897']\n",
        "df['Gender'].value_counts().plot.pie( autopct = '%.1f%%',ax = axes[0],explode = [0.02,0.02],colors=colors, figsize=(15,7))\n",
        "ax = sns.countplot(data = df , x = 'Response', ax = axes[1],palette = 'BuGn_r', hue = 'Gender',)"
      ]
    },
    {
      "cell_type": "markdown",
      "source": [
        "Male category is somewhat more noteworthy than that of female and chances of purchasing the insurance is likewise minimal high"
      ],
      "metadata": {
        "id": "ACCEHmVuVCA_"
      }
    },
    {
      "cell_type": "code",
      "source": [
        "# Analysis of age\n",
        "plt.figure(figsize=(22,8))\n",
        "sns.countplot(df['Age'],palette='RdYlBu')\n",
        "plt.title(\"AGE-DSTRIBUTION\")\n",
        "plt.show()"
      ],
      "metadata": {
        "id": "TcDtEEcmVFK4",
        "outputId": "a6c29239-323b-4445-e12a-ca0e11b892df",
        "colab": {
          "base_uri": "https://localhost:8080/",
          "height": 264
        }
      },
      "execution_count": null,
      "outputs": [
        {
          "output_type": "display_data",
          "data": {
            "text/plain": [
              "<Figure size 1584x576 with 1 Axes>"
            ],
            "image/png": "[encoded data removed]"
          },
          "metadata": {
            "needs_background": "light"
          }
        }
      ]
    },
    {
      "cell_type": "code",
      "source": [
        "# Analysis of Age & Response\n",
        "plt.figure(figsize=(22,8))\n",
        "ax = sns.countplot(data = df , x = 'Age', palette = 'BuPu', hue = 'Response',)"
      ],
      "metadata": {
        "id": "KvvLGy-YVsld",
        "outputId": "38e7e63b-3bb6-4d53-d9c4-1c35b3c00d3e",
        "colab": {
          "base_uri": "https://localhost:8080/",
          "height": 256
        }
      },
      "execution_count": null,
      "outputs": [
        {
          "output_type": "display_data",
          "data": {
            "text/plain": [
              "<Figure size 1584x576 with 1 Axes>"
            ],
            "image/png": "[encoded data removed]"
          },
          "metadata": {
            "needs_background": "light"
          }
        }
      ]
    },
    {
      "cell_type": "markdown",
      "metadata": {
        "id": "Q-7kt8MdLOfW"
      },
      "source": [
        "\n",
        "\n",
        "\n",
        "*   Youngsters under 30 are not intrigued by vehicle insurance. Reasons could be absence of involvement, less awareness about insurance and they may not have costly vehicles yet.\n",
        "\n",
        "*    People of age range between 30-60 years are more likely to be interested and willing to purchase\n",
        "\n",
        "\n",
        "\n"
      ]
    },
    {
      "cell_type": "code",
      "source": [
        "# Analyzing regoin feature\n",
        "plt.figure(figsize=(25,7))\n",
        "sns.countplot(df['Region_Code'],palette='RdYlBu')\n",
        "plt.title(\"REGION-DSTRIBUTION\")\n",
        "plt.show()"
      ],
      "metadata": {
        "id": "cL9Kdtu0gmd9",
        "outputId": "e679aa1e-51ee-4a54-d6c6-475eb7145b14",
        "colab": {
          "base_uri": "https://localhost:8080/",
          "height": 211
        }
      },
      "execution_count": null,
      "outputs": [
        {
          "output_type": "display_data",
          "data": {
            "text/plain": [
              "<Figure size 1800x504 with 1 Axes>"
            ],
            "image/png": "[encoded data removed]"
          },
          "metadata": {
            "needs_background": "light"
          }
        }
      ]
    },
    {
      "cell_type": "markdown",
      "source": [
        "Area code 28 has the most health insurance and region code 51 has the fewest"
      ],
      "metadata": {
        "id": "fTqcUUrpyYM7"
      }
    },
    {
      "cell_type": "code",
      "source": [
        "# Driving License effect on response feature\n",
        "fig,axes = plt.subplots(ncols=2,figsize=(20,5))\n",
        "colors = ['#4F6272','#B7C3F3']\n",
        "df['Driving_License'].value_counts().plot.pie(autopct='%.1f%%',ax= axes[0],explode=[0.02,0.02],colors=colors)\n",
        "ax = sns.countplot(data = df , x = 'Response', ax = axes[1],palette = 'BuGn_r', hue = 'Driving_License',)"
      ],
      "metadata": {
        "id": "dS0KYArVo0nK",
        "outputId": "c25aa8a0-0003-4bb0-8921-5a10114355bd",
        "colab": {
          "base_uri": "https://localhost:8080/",
          "height": 218
        }
      },
      "execution_count": null,
      "outputs": [
        {
          "output_type": "display_data",
          "data": {
            "text/plain": [
              "<Figure size 1440x360 with 2 Axes>"
            ],
            "image/png": "[encoded data removed]"
          },
          "metadata": {
            "needs_background": "light"
          }
        }
      ]
    },
    {
      "cell_type": "markdown",
      "source": [
        "\n",
        "\n",
        "*   We can see that if there is a license holder that it will be more likely to buy an insurance\n",
        "*   Also there is very less count of people who donot have driving license\n",
        "\n"
      ],
      "metadata": {
        "id": "2tdH6LcksG9c"
      }
    },
    {
      "cell_type": "code",
      "source": [
        "# Analyzing Previously_Insured feature and it's effect on response feature\n",
        "fig, axes = plt.subplots(ncols=2,figsize=(20,5))\n",
        "colors = ['#4F6272', '#B7C3F3', '#DD7596', '#8EB897']\n",
        "df['Previously_Insured'].value_counts().plot.pie( autopct = '%.1f%%',ax = axes[0],explode = [0.02,0.02],colors=colors, figsize=(15,7))\n",
        "ax = sns.countplot(data = df , x = 'Response', ax = axes[1],palette = 'BuGn_r', hue = 'Previously_Insured',)"
      ],
      "metadata": {
        "id": "OTkySMGWrs1H",
        "outputId": "35c40e9c-3811-4d8a-a264-e4b46ba30a82",
        "colab": {
          "base_uri": "https://localhost:8080/",
          "height": 334
        }
      },
      "execution_count": null,
      "outputs": [
        {
          "output_type": "display_data",
          "data": {
            "text/plain": [
              "<Figure size 1080x504 with 2 Axes>"
            ],
            "image/png": "[encoded data removed]"
          },
          "metadata": {
            "needs_background": "light"
          }
        }
      ]
    },
    {
      "cell_type": "markdown",
      "source": [
        "more than 50% of people doesn't have insurance\n"
      ],
      "metadata": {
        "id": "V6LeF97qs5bP"
      }
    },
    {
      "cell_type": "code",
      "source": [
        "# Analyzing Vehicle Age feature and it's effect on response feature\n",
        "fig, axes = plt.subplots(ncols=2,figsize=(20,5))\n",
        "colors = ['#4F6272', '#B7C3F3', '#DD7596', '#8EB897']\n",
        "df['Vehicle_Age'].value_counts().plot.pie( autopct = '%.1f%%',ax = axes[0],explode = [0.02,0.02,0.02],colors=colors, figsize=(15,7))\n",
        "ax = sns.countplot(data = df , x = 'Response', ax = axes[1],palette = 'BuGn_r', hue = 'Vehicle_Age',)"
      ],
      "metadata": {
        "id": "UNzhG_Jss19x",
        "outputId": "289ab544-75a8-4b09-fd1b-f1a3791e4d71",
        "colab": {
          "base_uri": "https://localhost:8080/",
          "height": 334
        }
      },
      "execution_count": null,
      "outputs": [
        {
          "output_type": "display_data",
          "data": {
            "text/plain": [
              "<Figure size 1080x504 with 2 Axes>"
            ],
            "image/png": "[encoded data removed]"
          },
          "metadata": {
            "needs_background": "light"
          }
        }
      ]
    },
    {
      "cell_type": "markdown",
      "source": [
        "\n",
        "\n",
        "*   consumers with 1-2-year-old vehicles are more interested as compared to others\n",
        "*  consumers with less than 1 year old vehicles have less chance of buying insurance\n",
        "\n",
        "\n"
      ],
      "metadata": {
        "id": "ZxJsppi3tONM"
      }
    },
    {
      "cell_type": "code",
      "source": [
        "# Analyzing Vehicle_Damage feature and it's effect on response feature\n",
        "fig, axes = plt.subplots(ncols=2,figsize=(20,5))\n",
        "colors = ['#4F6272', '#B7C3F3', '#DD7596', '#8EB897']\n",
        "df['Vehicle_Damage'].value_counts().plot.pie( autopct = '%.1f%%',ax = axes[0],explode = [0.02,0.02],colors=colors, figsize=(15,7))\n",
        "ax = sns.countplot(data = df , x = 'Response', ax = axes[1],palette = 'BuGn_r', hue = 'Vehicle_Damage',)"
      ],
      "metadata": {
        "id": "IkgSzFN9tL7J",
        "outputId": "bf3c7f67-15fb-4ce7-c962-ef7b53e52334",
        "colab": {
          "base_uri": "https://localhost:8080/",
          "height": 334
        }
      },
      "execution_count": null,
      "outputs": [
        {
          "output_type": "display_data",
          "data": {
            "text/plain": [
              "<Figure size 1080x504 with 2 Axes>"
            ],
            "image/png": "[encoded data removed]"
          },
          "metadata": {
            "needs_background": "light"
          }
        }
      ]
    },
    {
      "cell_type": "markdown",
      "source": [
        "Half of all health insurance customers have had their car destroyed, while the other half have not"
      ],
      "metadata": {
        "id": "ycTFPVZXt4QS"
      }
    },
    {
      "cell_type": "markdown",
      "source": [
        "# Vintage"
      ],
      "metadata": {
        "id": "tIpWHg5Tt9Jp"
      }
    },
    {
      "cell_type": "code",
      "source": [
        "# Plotting the distplot for vintange\n",
        "fig= plt.subplots(figsize = (10,6))\n",
        "sns.distplot( x= df['Vintage'], color= '#2E8B57')"
      ],
      "metadata": {
        "id": "uMP2Ca38twV5",
        "outputId": "33c560ca-986c-4064-e0b9-9a75f9b4c8d5",
        "colab": {
          "base_uri": "https://localhost:8080/",
          "height": 391
        }
      },
      "execution_count": null,
      "outputs": [
        {
          "output_type": "execute_result",
          "data": {
            "text/plain": [
              "<matplotlib.axes._subplots.AxesSubplot at 0x7ff30e77b510>"
            ]
          },
          "metadata": {},
          "execution_count": 129
        },
        {
          "output_type": "display_data",
          "data": {
            "text/plain": [
              "<Figure size 720x432 with 1 Axes>"
            ],
            "image/png": "[encoded data removed]"
          },
          "metadata": {
            "needs_background": "light"
          }
        }
      ]
    },
    {
      "cell_type": "code",
      "source": [
        "# Analyzing Vintage feature and it's effect on response feature\n",
        "fig= plt.subplots(figsize = (20,6))\n",
        "sns.histplot( x= df['Vintage'],color=\"#bcbddc\", kde = True)\n",
        "sns.histplot( x= df['Vintage'][df['Response'] == 1], color = '#756bb1', kde = True)\n",
        "axes[1].set_title(' Vintage vs response')"
      ],
      "metadata": {
        "id": "T_ZfQODNuAwS",
        "outputId": "71939e1c-0e7d-494a-9c95-d19aab222ae2",
        "colab": {
          "base_uri": "https://localhost:8080/",
          "height": 238
        }
      },
      "execution_count": null,
      "outputs": [
        {
          "output_type": "execute_result",
          "data": {
            "text/plain": [
              "Text(0.5, 1.0, ' Vintage vs response')"
            ]
          },
          "metadata": {},
          "execution_count": 130
        },
        {
          "output_type": "display_data",
          "data": {
            "text/plain": [
              "<Figure size 1440x432 with 1 Axes>"
            ],
            "image/png": "[encoded data removed]"
          },
          "metadata": {
            "needs_background": "light"
          }
        }
      ]
    },
    {
      "cell_type": "markdown",
      "source": [
        "# **Multivariate Analysis**"
      ],
      "metadata": {
        "id": "_pSu3sV6zPBy"
      }
    },
    {
      "cell_type": "code",
      "source": [
        "# plot heatmap to find correlation\n",
        "plt.figure(figsize=(18,9))\n",
        "ax= sns.heatmap(df.corr(),annot=True)"
      ],
      "metadata": {
        "id": "cWlCUllpuJdr",
        "outputId": "574fbd12-9873-4478-d719-cc90664b4689",
        "colab": {
          "base_uri": "https://localhost:8080/",
          "height": 403
        }
      },
      "execution_count": null,
      "outputs": [
        {
          "output_type": "display_data",
          "data": {
            "text/plain": [
              "<Figure size 1296x648 with 2 Axes>"
            ],
            "image/png": "[encoded data removed]"
          },
          "metadata": {
            "needs_background": "light"
          }
        }
      ]
    },
    {
      "cell_type": "markdown",
      "source": [
        "There is no strong correlation among features as we can see from the above heatmap\n"
      ],
      "metadata": {
        "id": "Utx5tBgWzzh7"
      }
    },
    {
      "cell_type": "markdown",
      "source": [
        "# **Cheking for Outliers**"
      ],
      "metadata": {
        "id": "h9zHI05vz_a6"
      }
    },
    {
      "cell_type": "code",
      "source": [
        "# chaking outliers\n",
        "int_df = df[list(df.describe())]\n",
        "for column in int_df:\n",
        "  plt.figure(figsize=(7,2))\n",
        "  sns.boxplot(data=int_df,x=column)"
      ],
      "metadata": {
        "id": "XjL_KG7bzpkC",
        "outputId": "73a423ce-60f2-4282-9c25-e58686b9a3be",
        "colab": {
          "base_uri": "https://localhost:8080/",
          "height": 1000
        }
      },
      "execution_count": null,
      "outputs": [
        {
          "output_type": "display_data",
          "data": {
            "text/plain": [
              "<Figure size 504x144 with 1 Axes>"
            ],
            "image/png": "[encoded data removed]"
          },
          "metadata": {
            "needs_background": "light"
          }
        },
        {
          "output_type": "display_data",
          "data": {
            "text/plain": [
              "<Figure size 504x144 with 1 Axes>"
            ],
            "image/png": "[encoded data removed]"
          },
          "metadata": {
            "needs_background": "light"
          }
        },
        {
          "output_type": "display_data",
          "data": {
            "text/plain": [
              "<Figure size 504x144 with 1 Axes>"
            ],
            "image/png": "[encoded data removed]"
          },
          "metadata": {
            "needs_background": "light"
          }
        },
        {
          "output_type": "display_data",
          "data": {
            "text/plain": [
              "<Figure size 504x144 with 1 Axes>"
            ],
            "image/png": "[encoded data removed]"
          },
          "metadata": {
            "needs_background": "light"
          }
        },
        {
          "output_type": "display_data",
          "data": {
            "text/plain": [
              "<Figure size 504x144 with 1 Axes>"
            ],
            "image/png": "[encoded data removed]"
          },
          "metadata": {
            "needs_background": "light"
          }
        },
        {
          "output_type": "display_data",
          "data": {
            "text/plain": [
              "<Figure size 504x144 with 1 Axes>"
            ],
            "image/png": "[encoded data removed]"
          },
          "metadata": {
            "needs_background": "light"
          }
        },
        {
          "output_type": "display_data",
          "data": {
            "text/plain": [
              "<Figure size 504x144 with 1 Axes>"
            ],
            "image/png": "[encoded data removed]"
          },
          "metadata": {
            "needs_background": "light"
          }
        },
        {
          "output_type": "display_data",
          "data": {
            "text/plain": [
              "<Figure size 504x144 with 1 Axes>"
            ],
            "image/png": "[encoded data removed]"
          },
          "metadata": {
            "needs_background": "light"
          }
        },
        {
          "output_type": "display_data",
          "data": {
            "text/plain": [
              "<Figure size 504x144 with 1 Axes>"
            ],
            "image/png": "[encoded data removed]"
          },
          "metadata": {
            "needs_background": "light"
          }
        }
      ]
    },
    {
      "cell_type": "markdown",
      "source": [
        "Annual premiume feature contains outliers so we tranfrom annual premium to normal distribution\n"
      ],
      "metadata": {
        "id": "27er9C4S1R7e"
      }
    },
    {
      "cell_type": "code",
      "source": [
        "features=df[['Annual_Premium']]"
      ],
      "metadata": {
        "id": "zURreN0c0z9I"
      },
      "execution_count": null,
      "outputs": []
    },
    {
      "cell_type": "code",
      "source": [
        "#instatiate\n",
        "from sklearn.preprocessing import PowerTransformer\n",
        "\n",
        "pt = PowerTransformer(method='yeo-johnson', standardize=True,)\n",
        "\n",
        "skl_yeojohnson = pt.fit(features)\n",
        "\n",
        "print (skl_yeojohnson.lambdas_)\n",
        "\n",
        "calc_lambdas = skl_yeojohnson.lambdas_\n",
        "skl_yeojohnson = pt.transform(features)\n",
        "df['Annual_Premium'] = pd.DataFrame(data=skl_yeojohnson, columns=['Annual_Premium'])\n",
        "\n",
        "df['Annual_Premium']"
      ],
      "metadata": {
        "id": "tJSHw4y-1vdb",
        "outputId": "72468282-2965-418f-9a32-53c3c1de6d12",
        "colab": {
          "base_uri": "https://localhost:8080/"
        }
      },
      "execution_count": null,
      "outputs": [
        {
          "output_type": "stream",
          "name": "stdout",
          "text": [
            "[0.76692882]\n"
          ]
        },
        {
          "output_type": "execute_result",
          "data": {
            "text/plain": [
              "0         0.612207\n",
              "1         0.243028\n",
              "2         0.498644\n",
              "3        -0.030214\n",
              "4        -0.094107\n",
              "            ...   \n",
              "381104    0.057079\n",
              "381105    0.589296\n",
              "381106    0.328903\n",
              "381107    0.827191\n",
              "381108    0.681065\n",
              "Name: Annual_Premium, Length: 381109, dtype: float64"
            ]
          },
          "metadata": {},
          "execution_count": 134
        }
      ]
    },
    {
      "cell_type": "code",
      "source": [
        "fig=plt.subplots(figsize= (10,6))\n",
        "sns.distplot(x=df['Annual_Premium'], color='g')"
      ],
      "metadata": {
        "id": "UlCyBVqd5vIF",
        "outputId": "d83e83d5-8b1c-4490-b737-cfb42d521f66",
        "colab": {
          "base_uri": "https://localhost:8080/",
          "height": 391
        }
      },
      "execution_count": null,
      "outputs": [
        {
          "output_type": "execute_result",
          "data": {
            "text/plain": [
              "<matplotlib.axes._subplots.AxesSubplot at 0x7ff30ec90710>"
            ]
          },
          "metadata": {},
          "execution_count": 135
        },
        {
          "output_type": "display_data",
          "data": {
            "text/plain": [
              "<Figure size 720x432 with 1 Axes>"
            ],
            "image/png": "[encoded data removed]"
          },
          "metadata": {
            "needs_background": "light"
          }
        }
      ]
    },
    {
      "cell_type": "markdown",
      "source": [
        "we will drop id columns as it has not attribute\n"
      ],
      "metadata": {
        "id": "zb0zPQRv-V8j"
      }
    },
    {
      "cell_type": "code",
      "source": [
        "df.drop('id',axis=1,inplace=True)\n"
      ],
      "metadata": {
        "id": "XRqKIuTS-JKh"
      },
      "execution_count": null,
      "outputs": []
    },
    {
      "cell_type": "code",
      "source": [
        "df.shape"
      ],
      "metadata": {
        "id": "ozhnt3Ak-zza",
        "outputId": "ad9e4b8f-f7ec-44d8-ac2d-48b399d40235",
        "colab": {
          "base_uri": "https://localhost:8080/"
        }
      },
      "execution_count": null,
      "outputs": [
        {
          "output_type": "execute_result",
          "data": {
            "text/plain": [
              "(381109, 11)"
            ]
          },
          "metadata": {},
          "execution_count": 137
        }
      ]
    },
    {
      "cell_type": "markdown",
      "source": [
        "# **Encoding**"
      ],
      "metadata": {
        "id": "X7BcI1ca_UwC"
      }
    },
    {
      "cell_type": "code",
      "source": [
        "# encoding numarical column to categorcial\n",
        "le = LabelEncoder()\n",
        "ohe = OneHotEncoder()\n",
        "\n",
        "df[\"Vehicle_Age\"]=df[\"Vehicle_Age\"].map({\"> 2 Years\":2,\"1-2 Year\":1,\"< 1 Year\":0})\n",
        "\n",
        "df['Gender']=ohe.fit_transform(df[[\"Gender\"]]).toarray()\n",
        "df['Vehicle_Age'] =le.fit_transform(df[['Vehicle_Age']])\n",
        "df['Vehicle_Damage'] = le.fit_transform(df[['Vehicle_Damage']])"
      ],
      "metadata": {
        "id": "w4rgyldD-1-A"
      },
      "execution_count": null,
      "outputs": []
    },
    {
      "cell_type": "code",
      "source": [
        "df.head()"
      ],
      "metadata": {
        "id": "18IuXXHvAuzU",
        "colab": {
          "base_uri": "https://localhost:8080/",
          "height": 270
        },
        "outputId": "ae4651ff-9461-4830-9775-c8864a82a6da"
      },
      "execution_count": null,
      "outputs": [
        {
          "output_type": "execute_result",
          "data": {
            "text/plain": [
              "   Gender  Age  Driving_License  Region_Code  Previously_Insured  Vehicle_Age  \\\n",
              "0     0.0   44                1         28.0                   0            2   \n",
              "1     0.0   76                1          3.0                   0            1   \n",
              "2     0.0   47                1         28.0                   0            2   \n",
              "3     0.0   21                1         11.0                   1            0   \n",
              "4     1.0   29                1         41.0                   1            0   \n",
              "\n",
              "   Vehicle_Damage  Annual_Premium  Policy_Sales_Channel  Vintage  Response  \n",
              "0               1        0.612207                  26.0      217         1  \n",
              "1               0        0.243028                  26.0      183         0  \n",
              "2               1        0.498644                  26.0       27         1  \n",
              "3               0       -0.030214                 152.0      203         0  \n",
              "4               0       -0.094107                 152.0       39         0  "
            ],
            "text/html": [
              "\n",
              "  <div id=\"df-3a074c84-e06f-4692-909f-44a8491d9eae\">\n",
              "    <div class=\"colab-df-container\">\n",
              "      <div>\n",
              "<style scoped>\n",
              "    .dataframe tbody tr th:only-of-type {\n",
              "        vertical-align: middle;\n",
              "    }\n",
              "\n",
              "    .dataframe tbody tr th {\n",
              "        vertical-align: top;\n",
              "    }\n",
              "\n",
              "    .dataframe thead th {\n",
              "        text-align: right;\n",
              "    }\n",
              "</style>\n",
              "<table border=\"1\" class=\"dataframe\">\n",
              "  <thead>\n",
              "    <tr style=\"text-align: right;\">\n",
              "      <th></th>\n",
              "      <th>Gender</th>\n",
              "      <th>Age</th>\n",
              "      <th>Driving_License</th>\n",
              "      <th>Region_Code</th>\n",
              "      <th>Previously_Insured</th>\n",
              "      <th>Vehicle_Age</th>\n",
              "      <th>Vehicle_Damage</th>\n",
              "      <th>Annual_Premium</th>\n",
              "      <th>Policy_Sales_Channel</th>\n",
              "      <th>Vintage</th>\n",
              "      <th>Response</th>\n",
              "    </tr>\n",
              "  </thead>\n",
              "  <tbody>\n",
              "    <tr>\n",
              "      <th>0</th>\n",
              "      <td>0.0</td>\n",
              "      <td>44</td>\n",
              "      <td>1</td>\n",
              "      <td>28.0</td>\n",
              "      <td>0</td>\n",
              "      <td>2</td>\n",
              "      <td>1</td>\n",
              "      <td>0.612207</td>\n",
              "      <td>26.0</td>\n",
              "      <td>217</td>\n",
              "      <td>1</td>\n",
              "    </tr>\n",
              "    <tr>\n",
              "      <th>1</th>\n",
              "      <td>0.0</td>\n",
              "      <td>76</td>\n",
              "      <td>1</td>\n",
              "      <td>3.0</td>\n",
              "      <td>0</td>\n",
              "      <td>1</td>\n",
              "      <td>0</td>\n",
              "      <td>0.243028</td>\n",
              "      <td>26.0</td>\n",
              "      <td>183</td>\n",
              "      <td>0</td>\n",
              "    </tr>\n",
              "    <tr>\n",
              "      <th>2</th>\n",
              "      <td>0.0</td>\n",
              "      <td>47</td>\n",
              "      <td>1</td>\n",
              "      <td>28.0</td>\n",
              "      <td>0</td>\n",
              "      <td>2</td>\n",
              "      <td>1</td>\n",
              "      <td>0.498644</td>\n",
              "      <td>26.0</td>\n",
              "      <td>27</td>\n",
              "      <td>1</td>\n",
              "    </tr>\n",
              "    <tr>\n",
              "      <th>3</th>\n",
              "      <td>0.0</td>\n",
              "      <td>21</td>\n",
              "      <td>1</td>\n",
              "      <td>11.0</td>\n",
              "      <td>1</td>\n",
              "      <td>0</td>\n",
              "      <td>0</td>\n",
              "      <td>-0.030214</td>\n",
              "      <td>152.0</td>\n",
              "      <td>203</td>\n",
              "      <td>0</td>\n",
              "    </tr>\n",
              "    <tr>\n",
              "      <th>4</th>\n",
              "      <td>1.0</td>\n",
              "      <td>29</td>\n",
              "      <td>1</td>\n",
              "      <td>41.0</td>\n",
              "      <td>1</td>\n",
              "      <td>0</td>\n",
              "      <td>0</td>\n",
              "      <td>-0.094107</td>\n",
              "      <td>152.0</td>\n",
              "      <td>39</td>\n",
              "      <td>0</td>\n",
              "    </tr>\n",
              "  </tbody>\n",
              "</table>\n",
              "</div>\n",
              "      <button class=\"colab-df-convert\" onclick=\"convertToInteractive('df-3a074c84-e06f-4692-909f-44a8491d9eae')\"\n",
              "              title=\"Convert this dataframe to an interactive table.\"\n",
              "              style=\"display:none;\">\n",
              "        \n",
              "  <svg xmlns=\"http://www.w3.org/2000/svg\" height=\"24px\"viewBox=\"0 0 24 24\"\n",
              "       width=\"24px\">\n",
              "    <path d=\"M0 0h24v24H0V0z\" fill=\"none\"/>\n",
              "    <path d=\"M18.56 5.44l.94 2.06.94-2.06 2.06-.94-2.06-.94-.94-2.06-.94 2.06-2.06.94zm-11 1L8.5 8.5l.94-2.06 2.06-.94-2.06-.94L8.5 2.5l-.94 2.06-2.06.94zm10 10l.94 2.06.94-2.06 2.06-.94-2.06-.94-.94-2.06-.94 2.06-2.06.94z\"/><path d=\"M17.41 7.96l-1.37-1.37c-.4-.4-.92-.59-1.43-.59-.52 0-1.04.2-1.43.59L10.3 9.45l-7.72 7.72c-.78.78-.78 2.05 0 2.83L4 21.41c.39.39.9.59 1.41.59.51 0 1.02-.2 1.41-.59l7.78-7.78 2.81-2.81c.8-.78.8-2.07 0-2.86zM5.41 20L4 18.59l7.72-7.72 1.47 1.35L5.41 20z\"/>\n",
              "  </svg>\n",
              "      </button>\n",
              "      \n",
              "  <style>\n",
              "    .colab-df-container {\n",
              "      display:flex;\n",
              "      flex-wrap:wrap;\n",
              "      gap: 12px;\n",
              "    }\n",
              "\n",
              "    .colab-df-convert {\n",
              "      background-color: #E8F0FE;\n",
              "      border: none;\n",
              "      border-radius: 50%;\n",
              "      cursor: pointer;\n",
              "      display: none;\n",
              "      fill: #1967D2;\n",
              "      height: 32px;\n",
              "      padding: 0 0 0 0;\n",
              "      width: 32px;\n",
              "    }\n",
              "\n",
              "    .colab-df-convert:hover {\n",
              "      background-color: #E2EBFA;\n",
              "      box-shadow: 0px 1px 2px rgba(60, 64, 67, 0.3), 0px 1px 3px 1px rgba(60, 64, 67, 0.15);\n",
              "      fill: #174EA6;\n",
              "    }\n",
              "\n",
              "    [theme=dark] .colab-df-convert {\n",
              "      background-color: #3B4455;\n",
              "      fill: #D2E3FC;\n",
              "    }\n",
              "\n",
              "    [theme=dark] .colab-df-convert:hover {\n",
              "      background-color: #434B5C;\n",
              "      box-shadow: 0px 1px 3px 1px rgba(0, 0, 0, 0.15);\n",
              "      filter: drop-shadow(0px 1px 2px rgba(0, 0, 0, 0.3));\n",
              "      fill: #FFFFFF;\n",
              "    }\n",
              "  </style>\n",
              "\n",
              "      <script>\n",
              "        const buttonEl =\n",
              "          document.querySelector('#df-3a074c84-e06f-4692-909f-44a8491d9eae button.colab-df-convert');\n",
              "        buttonEl.style.display =\n",
              "          google.colab.kernel.accessAllowed ? 'block' : 'none';\n",
              "\n",
              "        async function convertToInteractive(key) {\n",
              "          const element = document.querySelector('#df-3a074c84-e06f-4692-909f-44a8491d9eae');\n",
              "          const dataTable =\n",
              "            await google.colab.kernel.invokeFunction('convertToInteractive',\n",
              "                                                     [key], {});\n",
              "          if (!dataTable) return;\n",
              "\n",
              "          const docLinkHtml = 'Like what you see? Visit the ' +\n",
              "            '<a target=\"_blank\" href=https://colab.research.google.com/notebooks/data_table.ipynb>data table notebook</a>'\n",
              "            + ' to learn more about interactive tables.';\n",
              "          element.innerHTML = '';\n",
              "          dataTable['output_type'] = 'display_data';\n",
              "          await google.colab.output.renderOutput(dataTable, element);\n",
              "          const docLink = document.createElement('div');\n",
              "          docLink.innerHTML = docLinkHtml;\n",
              "          element.appendChild(docLink);\n",
              "        }\n",
              "      </script>\n",
              "    </div>\n",
              "  </div>\n",
              "  "
            ]
          },
          "metadata": {},
          "execution_count": 139
        }
      ]
    },
    {
      "cell_type": "code",
      "source": [
        "df.info()"
      ],
      "metadata": {
        "colab": {
          "base_uri": "https://localhost:8080/"
        },
        "id": "wnwdXCzrSZBM",
        "outputId": "9762a00c-331a-4ca4-880b-04a0c93e9bfb"
      },
      "execution_count": null,
      "outputs": [
        {
          "output_type": "stream",
          "name": "stdout",
          "text": [
            "<class 'pandas.core.frame.DataFrame'>\n",
            "RangeIndex: 381109 entries, 0 to 381108\n",
            "Data columns (total 11 columns):\n",
            " #   Column                Non-Null Count   Dtype  \n",
            "---  ------                --------------   -----  \n",
            " 0   Gender                381109 non-null  float64\n",
            " 1   Age                   381109 non-null  int64  \n",
            " 2   Driving_License       381109 non-null  int64  \n",
            " 3   Region_Code           381109 non-null  float64\n",
            " 4   Previously_Insured    381109 non-null  int64  \n",
            " 5   Vehicle_Age           381109 non-null  int64  \n",
            " 6   Vehicle_Damage        381109 non-null  int64  \n",
            " 7   Annual_Premium        381109 non-null  float64\n",
            " 8   Policy_Sales_Channel  381109 non-null  float64\n",
            " 9   Vintage               381109 non-null  int64  \n",
            " 10  Response              381109 non-null  int64  \n",
            "dtypes: float64(4), int64(7)\n",
            "memory usage: 32.0 MB\n"
          ]
        }
      ]
    },
    {
      "cell_type": "markdown",
      "source": [
        "# **Feature Selection**"
      ],
      "metadata": {
        "id": "wtROj6VtSq82"
      }
    },
    {
      "cell_type": "code",
      "source": [
        "# Importing iportant libraries\n",
        "from statsmodels.stats.outliers_influence import variance_inflation_factor\n",
        "# Function to Calculate VIF\n",
        "def calc_vif(X):\n",
        "\n",
        "    # Calculating VIF\n",
        "    vif = pd.DataFrame()\n",
        "    vif[\"variables\"] = X.columns\n",
        "    vif[\"VIF\"] = [variance_inflation_factor(X.values, i) for i in range(X.shape[1])]\n",
        "\n",
        "    return(vif)"
      ],
      "metadata": {
        "id": "CnVqrrfYSdKk"
      },
      "execution_count": null,
      "outputs": []
    },
    {
      "cell_type": "code",
      "source": [
        "calc_vif(df[[i for i in df.describe().columns if i not in ['Response']]])"
      ],
      "metadata": {
        "colab": {
          "base_uri": "https://localhost:8080/",
          "height": 363
        },
        "id": "6jlD0Yt2S-IU",
        "outputId": "7162c0fb-071c-41e1-a805-6a96d39a8585"
      },
      "execution_count": null,
      "outputs": [
        {
          "output_type": "execute_result",
          "data": {
            "text/plain": [
              "              variables        VIF\n",
              "0                Gender   1.900420\n",
              "1                   Age  18.381724\n",
              "2       Driving_License  40.268862\n",
              "3           Region_Code   4.957160\n",
              "4    Previously_Insured   5.724299\n",
              "5           Vehicle_Age   6.034246\n",
              "6        Vehicle_Damage   6.351624\n",
              "7        Annual_Premium   1.014392\n",
              "8  Policy_Sales_Channel   8.107759\n",
              "9               Vintage   4.373705"
            ],
            "text/html": [
              "\n",
              "  <div id=\"df-995e478a-dad9-4a99-b56b-a449d54f5c9c\">\n",
              "    <div class=\"colab-df-container\">\n",
              "      <div>\n",
              "<style scoped>\n",
              "    .dataframe tbody tr th:only-of-type {\n",
              "        vertical-align: middle;\n",
              "    }\n",
              "\n",
              "    .dataframe tbody tr th {\n",
              "        vertical-align: top;\n",
              "    }\n",
              "\n",
              "    .dataframe thead th {\n",
              "        text-align: right;\n",
              "    }\n",
              "</style>\n",
              "<table border=\"1\" class=\"dataframe\">\n",
              "  <thead>\n",
              "    <tr style=\"text-align: right;\">\n",
              "      <th></th>\n",
              "      <th>variables</th>\n",
              "      <th>VIF</th>\n",
              "    </tr>\n",
              "  </thead>\n",
              "  <tbody>\n",
              "    <tr>\n",
              "      <th>0</th>\n",
              "      <td>Gender</td>\n",
              "      <td>1.900420</td>\n",
              "    </tr>\n",
              "    <tr>\n",
              "      <th>1</th>\n",
              "      <td>Age</td>\n",
              "      <td>18.381724</td>\n",
              "    </tr>\n",
              "    <tr>\n",
              "      <th>2</th>\n",
              "      <td>Driving_License</td>\n",
              "      <td>40.268862</td>\n",
              "    </tr>\n",
              "    <tr>\n",
              "      <th>3</th>\n",
              "      <td>Region_Code</td>\n",
              "      <td>4.957160</td>\n",
              "    </tr>\n",
              "    <tr>\n",
              "      <th>4</th>\n",
              "      <td>Previously_Insured</td>\n",
              "      <td>5.724299</td>\n",
              "    </tr>\n",
              "    <tr>\n",
              "      <th>5</th>\n",
              "      <td>Vehicle_Age</td>\n",
              "      <td>6.034246</td>\n",
              "    </tr>\n",
              "    <tr>\n",
              "      <th>6</th>\n",
              "      <td>Vehicle_Damage</td>\n",
              "      <td>6.351624</td>\n",
              "    </tr>\n",
              "    <tr>\n",
              "      <th>7</th>\n",
              "      <td>Annual_Premium</td>\n",
              "      <td>1.014392</td>\n",
              "    </tr>\n",
              "    <tr>\n",
              "      <th>8</th>\n",
              "      <td>Policy_Sales_Channel</td>\n",
              "      <td>8.107759</td>\n",
              "    </tr>\n",
              "    <tr>\n",
              "      <th>9</th>\n",
              "      <td>Vintage</td>\n",
              "      <td>4.373705</td>\n",
              "    </tr>\n",
              "  </tbody>\n",
              "</table>\n",
              "</div>\n",
              "      <button class=\"colab-df-convert\" onclick=\"convertToInteractive('df-995e478a-dad9-4a99-b56b-a449d54f5c9c')\"\n",
              "              title=\"Convert this dataframe to an interactive table.\"\n",
              "              style=\"display:none;\">\n",
              "        \n",
              "  <svg xmlns=\"http://www.w3.org/2000/svg\" height=\"24px\"viewBox=\"0 0 24 24\"\n",
              "       width=\"24px\">\n",
              "    <path d=\"M0 0h24v24H0V0z\" fill=\"none\"/>\n",
              "    <path d=\"M18.56 5.44l.94 2.06.94-2.06 2.06-.94-2.06-.94-.94-2.06-.94 2.06-2.06.94zm-11 1L8.5 8.5l.94-2.06 2.06-.94-2.06-.94L8.5 2.5l-.94 2.06-2.06.94zm10 10l.94 2.06.94-2.06 2.06-.94-2.06-.94-.94-2.06-.94 2.06-2.06.94z\"/><path d=\"M17.41 7.96l-1.37-1.37c-.4-.4-.92-.59-1.43-.59-.52 0-1.04.2-1.43.59L10.3 9.45l-7.72 7.72c-.78.78-.78 2.05 0 2.83L4 21.41c.39.39.9.59 1.41.59.51 0 1.02-.2 1.41-.59l7.78-7.78 2.81-2.81c.8-.78.8-2.07 0-2.86zM5.41 20L4 18.59l7.72-7.72 1.47 1.35L5.41 20z\"/>\n",
              "  </svg>\n",
              "      </button>\n",
              "      \n",
              "  <style>\n",
              "    .colab-df-container {\n",
              "      display:flex;\n",
              "      flex-wrap:wrap;\n",
              "      gap: 12px;\n",
              "    }\n",
              "\n",
              "    .colab-df-convert {\n",
              "      background-color: #E8F0FE;\n",
              "      border: none;\n",
              "      border-radius: 50%;\n",
              "      cursor: pointer;\n",
              "      display: none;\n",
              "      fill: #1967D2;\n",
              "      height: 32px;\n",
              "      padding: 0 0 0 0;\n",
              "      width: 32px;\n",
              "    }\n",
              "\n",
              "    .colab-df-convert:hover {\n",
              "      background-color: #E2EBFA;\n",
              "      box-shadow: 0px 1px 2px rgba(60, 64, 67, 0.3), 0px 1px 3px 1px rgba(60, 64, 67, 0.15);\n",
              "      fill: #174EA6;\n",
              "    }\n",
              "\n",
              "    [theme=dark] .colab-df-convert {\n",
              "      background-color: #3B4455;\n",
              "      fill: #D2E3FC;\n",
              "    }\n",
              "\n",
              "    [theme=dark] .colab-df-convert:hover {\n",
              "      background-color: #434B5C;\n",
              "      box-shadow: 0px 1px 3px 1px rgba(0, 0, 0, 0.15);\n",
              "      filter: drop-shadow(0px 1px 2px rgba(0, 0, 0, 0.3));\n",
              "      fill: #FFFFFF;\n",
              "    }\n",
              "  </style>\n",
              "\n",
              "      <script>\n",
              "        const buttonEl =\n",
              "          document.querySelector('#df-995e478a-dad9-4a99-b56b-a449d54f5c9c button.colab-df-convert');\n",
              "        buttonEl.style.display =\n",
              "          google.colab.kernel.accessAllowed ? 'block' : 'none';\n",
              "\n",
              "        async function convertToInteractive(key) {\n",
              "          const element = document.querySelector('#df-995e478a-dad9-4a99-b56b-a449d54f5c9c');\n",
              "          const dataTable =\n",
              "            await google.colab.kernel.invokeFunction('convertToInteractive',\n",
              "                                                     [key], {});\n",
              "          if (!dataTable) return;\n",
              "\n",
              "          const docLinkHtml = 'Like what you see? Visit the ' +\n",
              "            '<a target=\"_blank\" href=https://colab.research.google.com/notebooks/data_table.ipynb>data table notebook</a>'\n",
              "            + ' to learn more about interactive tables.';\n",
              "          element.innerHTML = '';\n",
              "          dataTable['output_type'] = 'display_data';\n",
              "          await google.colab.output.renderOutput(dataTable, element);\n",
              "          const docLink = document.createElement('div');\n",
              "          docLink.innerHTML = docLinkHtml;\n",
              "          element.appendChild(docLink);\n",
              "        }\n",
              "      </script>\n",
              "    </div>\n",
              "  </div>\n",
              "  "
            ]
          },
          "metadata": {},
          "execution_count": 144
        }
      ]
    },
    {
      "cell_type": "code",
      "source": [
        "# drop driving licen variable\n",
        "df=df.drop(['Driving_License'],axis=1)"
      ],
      "metadata": {
        "id": "EDBzDQ16TTN3"
      },
      "execution_count": null,
      "outputs": []
    },
    {
      "cell_type": "code",
      "source": [
        "calc_vif(df[[i for i in df.describe().columns if i not in ['Response']]])"
      ],
      "metadata": {
        "colab": {
          "base_uri": "https://localhost:8080/",
          "height": 332
        },
        "id": "FvZ31Bz8T9Ic",
        "outputId": "9fd58a10-522a-4a43-e929-1eafea115573"
      },
      "execution_count": null,
      "outputs": [
        {
          "output_type": "execute_result",
          "data": {
            "text/plain": [
              "              variables        VIF\n",
              "0                Gender   1.847842\n",
              "1                   Age  13.471196\n",
              "2           Region_Code   4.558850\n",
              "3    Previously_Insured   4.620188\n",
              "4           Vehicle_Age   6.023186\n",
              "5        Vehicle_Damage   5.186692\n",
              "6        Annual_Premium   1.013756\n",
              "7  Policy_Sales_Channel   5.217964\n",
              "8               Vintage   4.066432"
            ],
            "text/html": [
              "\n",
              "  <div id=\"df-0ba53f23-3113-41a6-8717-0c3fd10637a1\">\n",
              "    <div class=\"colab-df-container\">\n",
              "      <div>\n",
              "<style scoped>\n",
              "    .dataframe tbody tr th:only-of-type {\n",
              "        vertical-align: middle;\n",
              "    }\n",
              "\n",
              "    .dataframe tbody tr th {\n",
              "        vertical-align: top;\n",
              "    }\n",
              "\n",
              "    .dataframe thead th {\n",
              "        text-align: right;\n",
              "    }\n",
              "</style>\n",
              "<table border=\"1\" class=\"dataframe\">\n",
              "  <thead>\n",
              "    <tr style=\"text-align: right;\">\n",
              "      <th></th>\n",
              "      <th>variables</th>\n",
              "      <th>VIF</th>\n",
              "    </tr>\n",
              "  </thead>\n",
              "  <tbody>\n",
              "    <tr>\n",
              "      <th>0</th>\n",
              "      <td>Gender</td>\n",
              "      <td>1.847842</td>\n",
              "    </tr>\n",
              "    <tr>\n",
              "      <th>1</th>\n",
              "      <td>Age</td>\n",
              "      <td>13.471196</td>\n",
              "    </tr>\n",
              "    <tr>\n",
              "      <th>2</th>\n",
              "      <td>Region_Code</td>\n",
              "      <td>4.558850</td>\n",
              "    </tr>\n",
              "    <tr>\n",
              "      <th>3</th>\n",
              "      <td>Previously_Insured</td>\n",
              "      <td>4.620188</td>\n",
              "    </tr>\n",
              "    <tr>\n",
              "      <th>4</th>\n",
              "      <td>Vehicle_Age</td>\n",
              "      <td>6.023186</td>\n",
              "    </tr>\n",
              "    <tr>\n",
              "      <th>5</th>\n",
              "      <td>Vehicle_Damage</td>\n",
              "      <td>5.186692</td>\n",
              "    </tr>\n",
              "    <tr>\n",
              "      <th>6</th>\n",
              "      <td>Annual_Premium</td>\n",
              "      <td>1.013756</td>\n",
              "    </tr>\n",
              "    <tr>\n",
              "      <th>7</th>\n",
              "      <td>Policy_Sales_Channel</td>\n",
              "      <td>5.217964</td>\n",
              "    </tr>\n",
              "    <tr>\n",
              "      <th>8</th>\n",
              "      <td>Vintage</td>\n",
              "      <td>4.066432</td>\n",
              "    </tr>\n",
              "  </tbody>\n",
              "</table>\n",
              "</div>\n",
              "      <button class=\"colab-df-convert\" onclick=\"convertToInteractive('df-0ba53f23-3113-41a6-8717-0c3fd10637a1')\"\n",
              "              title=\"Convert this dataframe to an interactive table.\"\n",
              "              style=\"display:none;\">\n",
              "        \n",
              "  <svg xmlns=\"http://www.w3.org/2000/svg\" height=\"24px\"viewBox=\"0 0 24 24\"\n",
              "       width=\"24px\">\n",
              "    <path d=\"M0 0h24v24H0V0z\" fill=\"none\"/>\n",
              "    <path d=\"M18.56 5.44l.94 2.06.94-2.06 2.06-.94-2.06-.94-.94-2.06-.94 2.06-2.06.94zm-11 1L8.5 8.5l.94-2.06 2.06-.94-2.06-.94L8.5 2.5l-.94 2.06-2.06.94zm10 10l.94 2.06.94-2.06 2.06-.94-2.06-.94-.94-2.06-.94 2.06-2.06.94z\"/><path d=\"M17.41 7.96l-1.37-1.37c-.4-.4-.92-.59-1.43-.59-.52 0-1.04.2-1.43.59L10.3 9.45l-7.72 7.72c-.78.78-.78 2.05 0 2.83L4 21.41c.39.39.9.59 1.41.59.51 0 1.02-.2 1.41-.59l7.78-7.78 2.81-2.81c.8-.78.8-2.07 0-2.86zM5.41 20L4 18.59l7.72-7.72 1.47 1.35L5.41 20z\"/>\n",
              "  </svg>\n",
              "      </button>\n",
              "      \n",
              "  <style>\n",
              "    .colab-df-container {\n",
              "      display:flex;\n",
              "      flex-wrap:wrap;\n",
              "      gap: 12px;\n",
              "    }\n",
              "\n",
              "    .colab-df-convert {\n",
              "      background-color: #E8F0FE;\n",
              "      border: none;\n",
              "      border-radius: 50%;\n",
              "      cursor: pointer;\n",
              "      display: none;\n",
              "      fill: #1967D2;\n",
              "      height: 32px;\n",
              "      padding: 0 0 0 0;\n",
              "      width: 32px;\n",
              "    }\n",
              "\n",
              "    .colab-df-convert:hover {\n",
              "      background-color: #E2EBFA;\n",
              "      box-shadow: 0px 1px 2px rgba(60, 64, 67, 0.3), 0px 1px 3px 1px rgba(60, 64, 67, 0.15);\n",
              "      fill: #174EA6;\n",
              "    }\n",
              "\n",
              "    [theme=dark] .colab-df-convert {\n",
              "      background-color: #3B4455;\n",
              "      fill: #D2E3FC;\n",
              "    }\n",
              "\n",
              "    [theme=dark] .colab-df-convert:hover {\n",
              "      background-color: #434B5C;\n",
              "      box-shadow: 0px 1px 3px 1px rgba(0, 0, 0, 0.15);\n",
              "      filter: drop-shadow(0px 1px 2px rgba(0, 0, 0, 0.3));\n",
              "      fill: #FFFFFF;\n",
              "    }\n",
              "  </style>\n",
              "\n",
              "      <script>\n",
              "        const buttonEl =\n",
              "          document.querySelector('#df-0ba53f23-3113-41a6-8717-0c3fd10637a1 button.colab-df-convert');\n",
              "        buttonEl.style.display =\n",
              "          google.colab.kernel.accessAllowed ? 'block' : 'none';\n",
              "\n",
              "        async function convertToInteractive(key) {\n",
              "          const element = document.querySelector('#df-0ba53f23-3113-41a6-8717-0c3fd10637a1');\n",
              "          const dataTable =\n",
              "            await google.colab.kernel.invokeFunction('convertToInteractive',\n",
              "                                                     [key], {});\n",
              "          if (!dataTable) return;\n",
              "\n",
              "          const docLinkHtml = 'Like what you see? Visit the ' +\n",
              "            '<a target=\"_blank\" href=https://colab.research.google.com/notebooks/data_table.ipynb>data table notebook</a>'\n",
              "            + ' to learn more about interactive tables.';\n",
              "          element.innerHTML = '';\n",
              "          dataTable['output_type'] = 'display_data';\n",
              "          await google.colab.output.renderOutput(dataTable, element);\n",
              "          const docLink = document.createElement('div');\n",
              "          docLink.innerHTML = docLinkHtml;\n",
              "          element.appendChild(docLink);\n",
              "        }\n",
              "      </script>\n",
              "    </div>\n",
              "  </div>\n",
              "  "
            ]
          },
          "metadata": {},
          "execution_count": 150
        }
      ]
    },
    {
      "cell_type": "markdown",
      "source": [
        "After dropping driving licence we got good scores"
      ],
      "metadata": {
        "id": "72bwh0RvUdir"
      }
    },
    {
      "cell_type": "markdown",
      "source": [
        "### **Handling Imbalance**"
      ],
      "metadata": {
        "id": "WUrm8IxIUpt-"
      }
    },
    {
      "cell_type": "code",
      "source": [
        "X=df.drop(['Response'],axis=1) #contain all  independent variable\n",
        "y=df['Response']           #dependent variable\n"
      ],
      "metadata": {
        "id": "MAL6-hr1UN_h"
      },
      "execution_count": null,
      "outputs": []
    },
    {
      "cell_type": "code",
      "source": [
        "# importing libraries for resampling\n",
        "# Handling imbalance data\n",
        "from imblearn.over_sampling import SMOTE\n",
        "smote = SMOTE()\n",
        "X,y = smote.fit_resample(X,y)\n",
        "print('Original dataset shape', len(df))\n",
        "print('Resampled dataset shape',len(y))"
      ],
      "metadata": {
        "colab": {
          "base_uri": "https://localhost:8080/"
        },
        "id": "tPPRaTURVLWe",
        "outputId": "7b8b040c-dde2-4927-d8f4-b29511af42fd"
      },
      "execution_count": null,
      "outputs": [
        {
          "output_type": "stream",
          "name": "stdout",
          "text": [
            "Original dataset shape 381109\n",
            "Resampled dataset shape 668798\n"
          ]
        }
      ]
    },
    {
      "cell_type": "code",
      "source": [
        "X.shape"
      ],
      "metadata": {
        "colab": {
          "base_uri": "https://localhost:8080/"
        },
        "id": "YFEuEgYTWxBW",
        "outputId": "4c2802a4-b46b-435b-b507-4d86c0056404"
      },
      "execution_count": null,
      "outputs": [
        {
          "output_type": "execute_result",
          "data": {
            "text/plain": [
              "(668798, 9)"
            ]
          },
          "metadata": {},
          "execution_count": 160
        }
      ]
    },
    {
      "cell_type": "markdown",
      "source": [
        "# **Train-test split**"
      ],
      "metadata": {
        "id": "9hgDYC-3XbeS"
      }
    },
    {
      "cell_type": "code",
      "source": [
        "X_train,X_test,y_train,y_test = train_test_split(X, y,test_size=0.20,random_state = 10)"
      ],
      "metadata": {
        "id": "1Cj4AtALXZ4s"
      },
      "execution_count": null,
      "outputs": []
    },
    {
      "cell_type": "code",
      "source": [
        "y_train.value_counts()"
      ],
      "metadata": {
        "colab": {
          "base_uri": "https://localhost:8080/"
        },
        "id": "2TDTUkzEXl8t",
        "outputId": "b16afaf0-0b8a-4002-d209-451170b78dd6"
      },
      "execution_count": null,
      "outputs": [
        {
          "output_type": "execute_result",
          "data": {
            "text/plain": [
              "1    267521\n",
              "0    267517\n",
              "Name: Response, dtype: int64"
            ]
          },
          "metadata": {},
          "execution_count": 162
        }
      ]
    },
    {
      "cell_type": "code",
      "source": [
        "y_test.value_counts()"
      ],
      "metadata": {
        "colab": {
          "base_uri": "https://localhost:8080/"
        },
        "id": "5Njz2W-eXs_l",
        "outputId": "c84a2914-afb6-42a5-ac40-9290a02ea224"
      },
      "execution_count": null,
      "outputs": [
        {
          "output_type": "execute_result",
          "data": {
            "text/plain": [
              "0    66882\n",
              "1    66878\n",
              "Name: Response, dtype: int64"
            ]
          },
          "metadata": {},
          "execution_count": 163
        }
      ]
    },
    {
      "cell_type": "markdown",
      "source": [
        "# **Model**"
      ],
      "metadata": {
        "id": "2fjaOT2qX0X4"
      }
    },
    {
      "cell_type": "markdown",
      "source": [
        "# Logistic Regression"
      ],
      "metadata": {
        "id": "adkLbOPsbsUC"
      }
    },
    {
      "cell_type": "code",
      "source": [
        "# Model of logistic regression\n",
        "LOG_RE=LogisticRegression()\n",
        "LOG_RE=LOG_RE.fit(X_train,y_train)\n",
        "LOG_RE_pred=LOG_RE.predict(X_test)\n",
        "LOG_RE_probability =LOG_RE.predict_proba(X_test)[:,1]\n",
        "\n",
        "# evaluating the model on the following metrics.\n",
        "accu_logreg = accuracy_score(y_test,LOG_RE_pred)\n",
        "recall_logreg = recall_score(y_test,LOG_RE_pred)\n",
        "prec_logreg = precision_score(y_test,LOG_RE_pred)\n",
        "f1score_logreg=f1_score(y_test,LOG_RE_pred)\n",
        "\n",
        "#print accuracy ,classification report and confusion matrix  values of model.\n",
        "print(\"Accuracy : \", accuracy_score(y_test,LOG_RE_pred)*100)\n",
        "print(classification_report(y_test,LOG_RE_pred))\n",
        "\n",
        "matrix = confusion_matrix(y_test,LOG_RE_pred)\n",
        "print('Confusion matrix : \\n',matrix)\n"
      ],
      "metadata": {
        "colab": {
          "base_uri": "https://localhost:8080/"
        },
        "id": "7M9vW4ETXxDh",
        "outputId": "afef9382-0f54-4c9f-ae5a-c45ce5b7cd8a"
      },
      "execution_count": null,
      "outputs": [
        {
          "output_type": "stream",
          "name": "stdout",
          "text": [
            "Accuracy :  77.72278708133972\n",
            "              precision    recall  f1-score   support\n",
            "\n",
            "           0       0.94      0.59      0.73     66882\n",
            "           1       0.70      0.96      0.81     66878\n",
            "\n",
            "    accuracy                           0.78    133760\n",
            "   macro avg       0.82      0.78      0.77    133760\n",
            "weighted avg       0.82      0.78      0.77    133760\n",
            "\n",
            "Confusion matrix : \n",
            " [[39538 27344]\n",
            " [ 2454 64424]]\n"
          ]
        }
      ]
    },
    {
      "cell_type": "code",
      "source": [
        "# import ROC curve\n",
        "from sklearn.metrics import roc_curve\n",
        "fpr, tpr, _ = roc_curve(y_test,LOG_RE_probability)\n",
        "\n",
        "plt.title(\"logistic Regression ROC curve\")\n",
        "plt.xlabel('FPR (Precision)')\n",
        "plt.ylabel(\"TRP (Recall)\")\n",
        "\n",
        "# Performance metrics\n",
        "plt.plot(fpr,tpr)\n",
        "plt.plot((0,1), ls='dashed',color='black')\n",
        "plt.show()"
      ],
      "metadata": {
        "colab": {
          "base_uri": "https://localhost:8080/",
          "height": 295
        },
        "id": "yeEgXGOAcuHF",
        "outputId": "3d856f96-efd4-4395-8f1e-bad724e438c2"
      },
      "execution_count": null,
      "outputs": [
        {
          "output_type": "display_data",
          "data": {
            "text/plain": [
              "<Figure size 432x288 with 1 Axes>"
            ],
            "image/png": "[encoded data removed]"
          },
          "metadata": {
            "needs_background": "light"
          }
        }
      ]
    },
    {
      "cell_type": "code",
      "source": [
        "# Confusion matrix\n",
        "cm=confusion_matrix(y_test,LOG_RE_pred)\n",
        "print(cm)\n",
        "sns.heatmap(cm,annot=True,cmap='RdGy')"
      ],
      "metadata": {
        "colab": {
          "base_uri": "https://localhost:8080/",
          "height": 317
        },
        "id": "s_Qy153HeRJE",
        "outputId": "1b4edad3-13a0-4fb5-d3f1-fa0768a20e17"
      },
      "execution_count": null,
      "outputs": [
        {
          "output_type": "stream",
          "name": "stdout",
          "text": [
            "[[39538 27344]\n",
            " [ 2454 64424]]\n"
          ]
        },
        {
          "output_type": "execute_result",
          "data": {
            "text/plain": [
              "<matplotlib.axes._subplots.AxesSubplot at 0x7ff30dfcafd0>"
            ]
          },
          "metadata": {},
          "execution_count": 170
        },
        {
          "output_type": "display_data",
          "data": {
            "text/plain": [
              "<Figure size 432x288 with 2 Axes>"
            ],
            "image/png": "[encoded data removed]"
          },
          "metadata": {
            "needs_background": "light"
          }
        }
      ]
    },
    {
      "cell_type": "markdown",
      "source": [
        "# **Decision tree**"
      ],
      "metadata": {
        "id": "EpzyvqIofUh8"
      }
    },
    {
      "cell_type": "code",
      "source": [
        "# Creating instance for our model, fiting and predicitng\n",
        "dtree = DecisionTreeClassifier()\n",
        "dtree = dtree.fit(X_train, y_train)\n",
        "dtree_pred = dtree.predict(X_test)\n",
        "dtree_probability =dtree.predict_proba(X_test)[:,1]\n",
        "\n",
        "# evaluating the model on the following metrics.\n",
        "accu_dtree = accuracy_score(y_test,dtree_pred)\n",
        "recall_dtree = recall_score(y_test,dtree_pred)\n",
        "prec_dtree = precision_score(y_test,dtree_pred)\n",
        "f1score_dtree=f1_score(y_test,dtree_pred)\n",
        "\n",
        "\n",
        "#print accuracy ,classification report and confusion matrix  values of model.\n",
        "\n",
        "print(accuracy_score(y_test, dtree_pred)*100)\n",
        "print(classification_report(y_test, dtree_pred))\n",
        "\n",
        "print('Confusion matrix : \\n',confusion_matrix(y_test,dtree_pred, labels=[1,0]))"
      ],
      "metadata": {
        "colab": {
          "base_uri": "https://localhost:8080/"
        },
        "id": "Z5rIat7xfDj8",
        "outputId": "d67c9ba0-a986-4807-c68e-549b75d7c962"
      },
      "execution_count": null,
      "outputs": [
        {
          "output_type": "stream",
          "name": "stdout",
          "text": [
            "87.30188397129187\n",
            "              precision    recall  f1-score   support\n",
            "\n",
            "           0       0.88      0.86      0.87     66882\n",
            "           1       0.86      0.89      0.87     66878\n",
            "\n",
            "    accuracy                           0.87    133760\n",
            "   macro avg       0.87      0.87      0.87    133760\n",
            "weighted avg       0.87      0.87      0.87    133760\n",
            "\n",
            "Confusion matrix : \n",
            " [[59200  7678]\n",
            " [ 9307 57575]]\n"
          ]
        }
      ]
    },
    {
      "cell_type": "code",
      "source": [
        "# Analyze Performance\n",
        "from sklearn.metrics import roc_curve\n",
        "fpr,tpr, _ = roc_curve(y_test,dtree_probability)\n",
        "\n",
        "plt.title('Decision Tree ROC curve')\n",
        "plt.xlabel('FPR (Precision)')\n",
        "plt.ylabel('TPR (Recall)')\n",
        "\n",
        "plt.plot(fpr,tpr)\n",
        "plt.plot((0,1), ls='dashed',color='black')\n",
        "plt.show()\n"
      ],
      "metadata": {
        "colab": {
          "base_uri": "https://localhost:8080/",
          "height": 295
        },
        "id": "QbUlS7R8fkay",
        "outputId": "798e497d-dbd6-44af-94b1-bdca448cd220"
      },
      "execution_count": null,
      "outputs": [
        {
          "output_type": "display_data",
          "data": {
            "text/plain": [
              "<Figure size 432x288 with 1 Axes>"
            ],
            "image/png": "[encoded data removed]"
          },
          "metadata": {
            "needs_background": "light"
          }
        }
      ]
    },
    {
      "cell_type": "code",
      "source": [
        "# Confusion matrix useful to find how many values are classified correctly\n",
        "cm=confusion_matrix(y_test,dtree_pred)\n",
        "print(cm)\n",
        "sns.heatmap(cm,annot=True,cmap='copper')"
      ],
      "metadata": {
        "colab": {
          "base_uri": "https://localhost:8080/",
          "height": 317
        },
        "id": "QDsER1rQgex2",
        "outputId": "2a35d805-9222-420b-d9ad-d83bd440a1e2"
      },
      "execution_count": null,
      "outputs": [
        {
          "output_type": "stream",
          "name": "stdout",
          "text": [
            "[[57575  9307]\n",
            " [ 7678 59200]]\n"
          ]
        },
        {
          "output_type": "execute_result",
          "data": {
            "text/plain": [
              "<matplotlib.axes._subplots.AxesSubplot at 0x7ff30eb507d0>"
            ]
          },
          "metadata": {},
          "execution_count": 175
        },
        {
          "output_type": "display_data",
          "data": {
            "text/plain": [
              "<Figure size 432x288 with 2 Axes>"
            ],
            "image/png": "[encoded data removed]"
          },
          "metadata": {
            "needs_background": "light"
          }
        }
      ]
    },
    {
      "cell_type": "markdown",
      "source": [
        "# **Random** **Forest** **classifier**\n"
      ],
      "metadata": {
        "id": "qOsMIqOGg5L3"
      }
    },
    {
      "cell_type": "code",
      "source": [
        "# Creating instance for our model, fiting and predicitng\n",
        "rf_tree = RandomForestClassifier()\n",
        "rf_tree.fit(X_train, y_train)\n",
        "rf_tree_pred = rf_tree.predict(X_test)\n",
        "rf_tree_probability = rf_tree.predict_proba(X_test)[:,1]\n",
        "\n",
        "# evaluating the model on the following metrics.\n",
        "accu_rf= accuracy_score(y_test,rf_tree_pred)\n",
        "recall_rf = recall_score(y_test,rf_tree_pred)\n",
        "prec_rf= precision_score(y_test,rf_tree_pred)\n",
        "f1score_rf=f1_score(y_test,rf_tree_pred)\n",
        "\n",
        "#print accuracy ,classification report and confusion matrix  values of model.\n",
        "\n",
        "print(accuracy_score(y_test, rf_tree_pred)*100)\n",
        "print(classification_report(y_test, rf_tree_pred))\n",
        "print(\"Confusion matrix\\n\", confusion_matrix(y_test, rf_tree_pred))"
      ],
      "metadata": {
        "colab": {
          "base_uri": "https://localhost:8080/"
        },
        "id": "hjoRPoTegvGc",
        "outputId": "a3bb90df-90e9-4c2a-b5ba-29e847a8ff71"
      },
      "execution_count": null,
      "outputs": [
        {
          "output_type": "stream",
          "name": "stdout",
          "text": [
            "89.69721889952153\n",
            "              precision    recall  f1-score   support\n",
            "\n",
            "           0       0.91      0.88      0.89     66882\n",
            "           1       0.88      0.92      0.90     66878\n",
            "\n",
            "    accuracy                           0.90    133760\n",
            "   macro avg       0.90      0.90      0.90    133760\n",
            "weighted avg       0.90      0.90      0.90    133760\n",
            "\n",
            "Confusion matrix\n",
            " [[58552  8330]\n",
            " [ 5451 61427]]\n"
          ]
        }
      ]
    },
    {
      "cell_type": "code",
      "source": [
        "# Analyze Performance\n",
        "from sklearn.metrics import roc_curve\n",
        "fpr, tpr, _ = roc_curve(y_test,rf_tree_probability )\n",
        "\n",
        "plt.title('RandomForestClassifier ROC curve')\n",
        "plt.xlabel('FPR (Precision)')\n",
        "plt.ylabel('TPR (Recall)')\n",
        "\n",
        "plt.plot(fpr,tpr)\n",
        "plt.plot((0,1), ls='dashed',color='black')\n",
        "plt.show()"
      ],
      "metadata": {
        "colab": {
          "base_uri": "https://localhost:8080/",
          "height": 295
        },
        "id": "ssj6j-j6hGj_",
        "outputId": "96f55943-c933-49bc-b970-698fd729ccfd"
      },
      "execution_count": null,
      "outputs": [
        {
          "output_type": "display_data",
          "data": {
            "text/plain": [
              "<Figure size 432x288 with 1 Axes>"
            ],
            "image/png": "[encoded data removed]"
          },
          "metadata": {
            "needs_background": "light"
          }
        }
      ]
    },
    {
      "cell_type": "code",
      "source": [
        "# Confusion matrix useful to find how many values are classified correctly\n",
        "cm=confusion_matrix(y_test,rf_tree_pred)\n",
        "print(cm)\n",
        "sns.heatmap(cm,annot=True,cmap='BuPu')"
      ],
      "metadata": {
        "colab": {
          "base_uri": "https://localhost:8080/",
          "height": 317
        },
        "id": "HwL-9KYEhJZi",
        "outputId": "14e4be37-c5d2-4585-a121-b79e8b87c4e6"
      },
      "execution_count": null,
      "outputs": [
        {
          "output_type": "stream",
          "name": "stdout",
          "text": [
            "[[58552  8330]\n",
            " [ 5451 61427]]\n"
          ]
        },
        {
          "output_type": "execute_result",
          "data": {
            "text/plain": [
              "<matplotlib.axes._subplots.AxesSubplot at 0x7ff30f0c41d0>"
            ]
          },
          "metadata": {},
          "execution_count": 178
        },
        {
          "output_type": "display_data",
          "data": {
            "text/plain": [
              "<Figure size 432x288 with 2 Axes>"
            ],
            "image/png": "[encoded data removed]"
          },
          "metadata": {
            "needs_background": "light"
          }
        }
      ]
    },
    {
      "cell_type": "markdown",
      "source": [
        "# **XGB Classifier**"
      ],
      "metadata": {
        "id": "o78U4U0akSo6"
      }
    },
    {
      "cell_type": "code",
      "source": [
        "# Importing of XGBClassifier\n",
        "import xgboost as xgb\n",
        "xgb_model=xgb.XGBClassifier()\n",
        "xgb_model.fit(X_train,y_train)\n",
        "xgb_pred = xgb_model.predict(X_test)\n",
        "xgb_model_probability = xgb_model.predict_proba(X_test)[:,1]\n",
        "\n",
        "# evaluating the model on the following metrics.\n",
        "accu_xgb = accuracy_score(y_test,xgb_pred)\n",
        "recall_xgb = recall_score(y_test,xgb_pred)\n",
        "prec_xgb = precision_score(y_test,xgb_pred)\n",
        "f1score_xgb=f1_score(y_test,xgb_pred)\n",
        "\n",
        "#print accuracy ,classification report and confusion matrix  values of model.\n",
        "\n",
        "print(accuracy_score(y_test, xgb_pred)*100)\n",
        "print(classification_report(y_test, xgb_pred))\n",
        "print(\"Confusion matrix\\n\", confusion_matrix(y_test, xgb_pred))"
      ],
      "metadata": {
        "colab": {
          "base_uri": "https://localhost:8080/"
        },
        "id": "NRI-RGithiyS",
        "outputId": "351eb9b1-3c5d-4e69-985c-176fcbceb25b"
      },
      "execution_count": null,
      "outputs": [
        {
          "output_type": "stream",
          "name": "stdout",
          "text": [
            "84.1596889952153\n",
            "              precision    recall  f1-score   support\n",
            "\n",
            "           0       0.89      0.78      0.83     66882\n",
            "           1       0.80      0.91      0.85     66878\n",
            "\n",
            "    accuracy                           0.84    133760\n",
            "   macro avg       0.85      0.84      0.84    133760\n",
            "weighted avg       0.85      0.84      0.84    133760\n",
            "\n",
            "Confusion matrix\n",
            " [[51993 14889]\n",
            " [ 6299 60579]]\n"
          ]
        }
      ]
    },
    {
      "cell_type": "code",
      "source": [
        "# performance and evaluation\n",
        "from sklearn.metrics import roc_curve\n",
        "fpr, tpr, _ = roc_curve(y_test,xgb_model_probability)\n",
        "\n",
        "plt.title('XGB Classifier curve')\n",
        "plt.xlabel('FPR (Precision)')\n",
        "plt.ylabel('TPR (Recall)')\n",
        "\n",
        "plt.plot(fpr,tpr)\n",
        "plt.plot((0,1), ls='dashed',color='black')\n",
        "plt.show()"
      ],
      "metadata": {
        "colab": {
          "base_uri": "https://localhost:8080/",
          "height": 295
        },
        "id": "yC_rfplzkga_",
        "outputId": "39f99c02-22f3-4bb6-e89b-8722c7f3c3b0"
      },
      "execution_count": null,
      "outputs": [
        {
          "output_type": "display_data",
          "data": {
            "text/plain": [
              "<Figure size 432x288 with 1 Axes>"
            ],
            "image/png": "[encoded data removed]"
          },
          "metadata": {
            "needs_background": "light"
          }
        }
      ]
    },
    {
      "cell_type": "code",
      "source": [
        "# Confusion matrix useful to find how many values are classified correctly\n",
        "cm=confusion_matrix(y_test,xgb_pred)\n",
        "print(cm)\n",
        "sns.heatmap(cm,annot=True,cmap='BuPu')"
      ],
      "metadata": {
        "colab": {
          "base_uri": "https://localhost:8080/",
          "height": 319
        },
        "id": "JIDe25MwkwBX",
        "outputId": "d2d540b3-5dc8-49ef-dca0-9d6c3794451e"
      },
      "execution_count": null,
      "outputs": [
        {
          "output_type": "stream",
          "name": "stdout",
          "text": [
            "[[51993 14889]\n",
            " [ 6299 60579]]\n"
          ]
        },
        {
          "output_type": "execute_result",
          "data": {
            "text/plain": [
              "<matplotlib.axes._subplots.AxesSubplot at 0x7ff30f88bc10>"
            ]
          },
          "metadata": {},
          "execution_count": 181
        },
        {
          "output_type": "display_data",
          "data": {
            "text/plain": [
              "<Figure size 432x288 with 2 Axes>"
            ],
            "image/png": "[encoded data removed]"
          },
          "metadata": {
            "needs_background": "light"
          }
        }
      ]
    },
    {
      "cell_type": "markdown",
      "source": [
        "# **Comparing models**"
      ],
      "metadata": {
        "id": "e1-Tfq2dk3Mp"
      }
    },
    {
      "cell_type": "code",
      "source": [
        "ind=['Logistic regression','Decision Tree','Randomforest','XGBClassifier']\n",
        "df={\"Accuracy\":[accu_logreg,accu_dtree,accu_rf,accu_xgb],\"Recall\":[recall_logreg,recall_dtree,recall_rf,recall_xgb],\"Precision\":[prec_logreg,prec_dtree,prec_rf,prec_xgb],'f1_score':[f1score_logreg,f1score_dtree,f1score_rf,f1score_xgb]}\n",
        "result=pd.DataFrame(data=df,index=ind)\n",
        "result"
      ],
      "metadata": {
        "colab": {
          "base_uri": "https://localhost:8080/",
          "height": 175
        },
        "id": "DyeqERelk1Ne",
        "outputId": "e27b1718-5726-41aa-e108-25147a9f9629"
      },
      "execution_count": null,
      "outputs": [
        {
          "output_type": "execute_result",
          "data": {
            "text/plain": [
              "                     Accuracy    Recall  Precision  f1_score\n",
              "Logistic regression  0.777228  0.963306   0.702031  0.812173\n",
              "Decision Tree        0.873019  0.885194   0.864145  0.874543\n",
              "Randomforest         0.896972  0.918493   0.880585  0.899140\n",
              "XGBClassifier        0.841597  0.905814   0.802711  0.851151"
            ],
            "text/html": [
              "\n",
              "  <div id=\"df-f2a2dc52-70fc-47de-9b64-af18d214f0e9\">\n",
              "    <div class=\"colab-df-container\">\n",
              "      <div>\n",
              "<style scoped>\n",
              "    .dataframe tbody tr th:only-of-type {\n",
              "        vertical-align: middle;\n",
              "    }\n",
              "\n",
              "    .dataframe tbody tr th {\n",
              "        vertical-align: top;\n",
              "    }\n",
              "\n",
              "    .dataframe thead th {\n",
              "        text-align: right;\n",
              "    }\n",
              "</style>\n",
              "<table border=\"1\" class=\"dataframe\">\n",
              "  <thead>\n",
              "    <tr style=\"text-align: right;\">\n",
              "      <th></th>\n",
              "      <th>Accuracy</th>\n",
              "      <th>Recall</th>\n",
              "      <th>Precision</th>\n",
              "      <th>f1_score</th>\n",
              "    </tr>\n",
              "  </thead>\n",
              "  <tbody>\n",
              "    <tr>\n",
              "      <th>Logistic regression</th>\n",
              "      <td>0.777228</td>\n",
              "      <td>0.963306</td>\n",
              "      <td>0.702031</td>\n",
              "      <td>0.812173</td>\n",
              "    </tr>\n",
              "    <tr>\n",
              "      <th>Decision Tree</th>\n",
              "      <td>0.873019</td>\n",
              "      <td>0.885194</td>\n",
              "      <td>0.864145</td>\n",
              "      <td>0.874543</td>\n",
              "    </tr>\n",
              "    <tr>\n",
              "      <th>Randomforest</th>\n",
              "      <td>0.896972</td>\n",
              "      <td>0.918493</td>\n",
              "      <td>0.880585</td>\n",
              "      <td>0.899140</td>\n",
              "    </tr>\n",
              "    <tr>\n",
              "      <th>XGBClassifier</th>\n",
              "      <td>0.841597</td>\n",
              "      <td>0.905814</td>\n",
              "      <td>0.802711</td>\n",
              "      <td>0.851151</td>\n",
              "    </tr>\n",
              "  </tbody>\n",
              "</table>\n",
              "</div>\n",
              "      <button class=\"colab-df-convert\" onclick=\"convertToInteractive('df-f2a2dc52-70fc-47de-9b64-af18d214f0e9')\"\n",
              "              title=\"Convert this dataframe to an interactive table.\"\n",
              "              style=\"display:none;\">\n",
              "        \n",
              "  <svg xmlns=\"http://www.w3.org/2000/svg\" height=\"24px\"viewBox=\"0 0 24 24\"\n",
              "       width=\"24px\">\n",
              "    <path d=\"M0 0h24v24H0V0z\" fill=\"none\"/>\n",
              "    <path d=\"M18.56 5.44l.94 2.06.94-2.06 2.06-.94-2.06-.94-.94-2.06-.94 2.06-2.06.94zm-11 1L8.5 8.5l.94-2.06 2.06-.94-2.06-.94L8.5 2.5l-.94 2.06-2.06.94zm10 10l.94 2.06.94-2.06 2.06-.94-2.06-.94-.94-2.06-.94 2.06-2.06.94z\"/><path d=\"M17.41 7.96l-1.37-1.37c-.4-.4-.92-.59-1.43-.59-.52 0-1.04.2-1.43.59L10.3 9.45l-7.72 7.72c-.78.78-.78 2.05 0 2.83L4 21.41c.39.39.9.59 1.41.59.51 0 1.02-.2 1.41-.59l7.78-7.78 2.81-2.81c.8-.78.8-2.07 0-2.86zM5.41 20L4 18.59l7.72-7.72 1.47 1.35L5.41 20z\"/>\n",
              "  </svg>\n",
              "      </button>\n",
              "      \n",
              "  <style>\n",
              "    .colab-df-container {\n",
              "      display:flex;\n",
              "      flex-wrap:wrap;\n",
              "      gap: 12px;\n",
              "    }\n",
              "\n",
              "    .colab-df-convert {\n",
              "      background-color: #E8F0FE;\n",
              "      border: none;\n",
              "      border-radius: 50%;\n",
              "      cursor: pointer;\n",
              "      display: none;\n",
              "      fill: #1967D2;\n",
              "      height: 32px;\n",
              "      padding: 0 0 0 0;\n",
              "      width: 32px;\n",
              "    }\n",
              "\n",
              "    .colab-df-convert:hover {\n",
              "      background-color: #E2EBFA;\n",
              "      box-shadow: 0px 1px 2px rgba(60, 64, 67, 0.3), 0px 1px 3px 1px rgba(60, 64, 67, 0.15);\n",
              "      fill: #174EA6;\n",
              "    }\n",
              "\n",
              "    [theme=dark] .colab-df-convert {\n",
              "      background-color: #3B4455;\n",
              "      fill: #D2E3FC;\n",
              "    }\n",
              "\n",
              "    [theme=dark] .colab-df-convert:hover {\n",
              "      background-color: #434B5C;\n",
              "      box-shadow: 0px 1px 3px 1px rgba(0, 0, 0, 0.15);\n",
              "      filter: drop-shadow(0px 1px 2px rgba(0, 0, 0, 0.3));\n",
              "      fill: #FFFFFF;\n",
              "    }\n",
              "  </style>\n",
              "\n",
              "      <script>\n",
              "        const buttonEl =\n",
              "          document.querySelector('#df-f2a2dc52-70fc-47de-9b64-af18d214f0e9 button.colab-df-convert');\n",
              "        buttonEl.style.display =\n",
              "          google.colab.kernel.accessAllowed ? 'block' : 'none';\n",
              "\n",
              "        async function convertToInteractive(key) {\n",
              "          const element = document.querySelector('#df-f2a2dc52-70fc-47de-9b64-af18d214f0e9');\n",
              "          const dataTable =\n",
              "            await google.colab.kernel.invokeFunction('convertToInteractive',\n",
              "                                                     [key], {});\n",
              "          if (!dataTable) return;\n",
              "\n",
              "          const docLinkHtml = 'Like what you see? Visit the ' +\n",
              "            '<a target=\"_blank\" href=https://colab.research.google.com/notebooks/data_table.ipynb>data table notebook</a>'\n",
              "            + ' to learn more about interactive tables.';\n",
              "          element.innerHTML = '';\n",
              "          dataTable['output_type'] = 'display_data';\n",
              "          await google.colab.output.renderOutput(dataTable, element);\n",
              "          const docLink = document.createElement('div');\n",
              "          docLink.innerHTML = docLinkHtml;\n",
              "          element.appendChild(docLink);\n",
              "        }\n",
              "      </script>\n",
              "    </div>\n",
              "  </div>\n",
              "  "
            ]
          },
          "metadata": {},
          "execution_count": 190
        }
      ]
    },
    {
      "cell_type": "markdown",
      "source": [
        "# **Hyperparameter tuning**"
      ],
      "metadata": {
        "id": "kLwXRUc1nJRe"
      }
    },
    {
      "cell_type": "code",
      "source": [
        "pip install scikit-optimize"
      ],
      "metadata": {
        "colab": {
          "base_uri": "https://localhost:8080/"
        },
        "id": "1J4C77Z5mIYR",
        "outputId": "e8b9d014-089b-4b78-e15d-b7d492907e58"
      },
      "execution_count": null,
      "outputs": [
        {
          "output_type": "stream",
          "name": "stdout",
          "text": [
            "Looking in indexes: https://pypi.org/simple, https://us-python.pkg.dev/colab-wheels/public/simple/\n",
            "Collecting scikit-optimize\n",
            "  Downloading scikit_optimize-0.9.0-py2.py3-none-any.whl (100 kB)\n",
            "\u001b[K     |████████████████████████████████| 100 kB 3.1 MB/s \n",
            "\u001b[?25hCollecting pyaml>=16.9\n",
            "  Downloading pyaml-21.10.1-py2.py3-none-any.whl (24 kB)\n",
            "Requirement already satisfied: scikit-learn>=0.20.0 in /usr/local/lib/python3.7/dist-packages (from scikit-optimize) (1.0.2)\n",
            "Requirement already satisfied: numpy>=1.13.3 in /usr/local/lib/python3.7/dist-packages (from scikit-optimize) (1.21.6)\n",
            "Requirement already satisfied: joblib>=0.11 in /usr/local/lib/python3.7/dist-packages (from scikit-optimize) (1.1.0)\n",
            "Requirement already satisfied: scipy>=0.19.1 in /usr/local/lib/python3.7/dist-packages (from scikit-optimize) (1.7.3)\n",
            "Requirement already satisfied: PyYAML in /usr/local/lib/python3.7/dist-packages (from pyaml>=16.9->scikit-optimize) (6.0)\n",
            "Requirement already satisfied: threadpoolctl>=2.0.0 in /usr/local/lib/python3.7/dist-packages (from scikit-learn>=0.20.0->scikit-optimize) (3.1.0)\n",
            "Installing collected packages: pyaml, scikit-optimize\n",
            "Successfully installed pyaml-21.10.1 scikit-optimize-0.9.0\n"
          ]
        }
      ]
    },
    {
      "cell_type": "code",
      "source": [
        "from skopt import BayesSearchCV\n",
        "from skopt.space import Real, Categorical, Integer"
      ],
      "metadata": {
        "id": "rToUuhVqnQgB"
      },
      "execution_count": null,
      "outputs": []
    },
    {
      "cell_type": "markdown",
      "source": [],
      "metadata": {
        "id": "L9EPtuHaoD1m"
      }
    },
    {
      "cell_type": "code",
      "source": [
        "# #Hyperparameter Tuning on RandomForestClassifier\n",
        "\n",
        "rf = RandomForestClassifier(random_state=40)\n",
        "#Cross validation and hyperparameter tuning\n",
        "rf_bayes = BayesSearchCV(estimator= rf,\n",
        "                         search_spaces = {\n",
        "                          'max_depth': Integer(2,100),\n",
        "                          'min_samples_leaf': Integer(1,100),\n",
        "                          'min_samples_split': Integer(2,100),\n",
        "                          'n_estimators': Integer(1,140),\n",
        "                          'max_features': [\"auto\", \"sqrt\", \"log2\"]\n",
        "                        },\n",
        "                       cv = 5, verbose=2, scoring='accuracy',n_iter=10)\n",
        "\n",
        "rf_bayes.fit(X_train,y_train)"
      ],
      "metadata": {
        "colab": {
          "base_uri": "https://localhost:8080/"
        },
        "id": "nCwHEELbnXm5",
        "outputId": "795222fe-d728-4d82-d198-079d95a2c7be"
      },
      "execution_count": null,
      "outputs": [
        {
          "metadata": {
            "tags": null
          },
          "name": "stdout",
          "output_type": "stream",
          "text": [
            "Fitting 5 folds for each of 1 candidates, totalling 5 fits\n",
            "[CV] END max_depth=57, max_features=sqrt, min_samples_leaf=71, min_samples_split=38, n_estimators=117; total time= 1.9min\n",
            "[CV] END max_depth=57, max_features=sqrt, min_samples_leaf=71, min_samples_split=38, n_estimators=117; total time= 1.9min\n",
            "[CV] END max_depth=57, max_features=sqrt, min_samples_leaf=71, min_samples_split=38, n_estimators=117; total time= 1.7min\n",
            "[CV] END max_depth=57, max_features=sqrt, min_samples_leaf=71, min_samples_split=38, n_estimators=117; total time= 1.7min\n",
            "[CV] END max_depth=57, max_features=sqrt, min_samples_leaf=71, min_samples_split=38, n_estimators=117; total time= 1.7min\n",
            "Fitting 5 folds for each of 1 candidates, totalling 5 fits\n",
            "[CV] END max_depth=96, max_features=auto, min_samples_leaf=23, min_samples_split=18, n_estimators=14; total time=  13.2s\n",
            "[CV] END max_depth=96, max_features=auto, min_samples_leaf=23, min_samples_split=18, n_estimators=14; total time=  13.2s\n",
            "[CV] END max_depth=96, max_features=auto, min_samples_leaf=23, min_samples_split=18, n_estimators=14; total time=  12.7s\n",
            "[CV] END max_depth=96, max_features=auto, min_samples_leaf=23, min_samples_split=18, n_estimators=14; total time=  12.7s\n",
            "[CV] END max_depth=96, max_features=auto, min_samples_leaf=23, min_samples_split=18, n_estimators=14; total time=  12.6s\n",
            "Fitting 5 folds for each of 1 candidates, totalling 5 fits\n",
            "[CV] END max_depth=13, max_features=log2, min_samples_leaf=52, min_samples_split=70, n_estimators=64; total time=  45.1s\n",
            "[CV] END max_depth=13, max_features=log2, min_samples_leaf=52, min_samples_split=70, n_estimators=64; total time=  45.3s\n",
            "[CV] END max_depth=13, max_features=log2, min_samples_leaf=52, min_samples_split=70, n_estimators=64; total time=  44.1s\n",
            "[CV] END max_depth=13, max_features=log2, min_samples_leaf=52, min_samples_split=70, n_estimators=64; total time=  44.2s\n",
            "[CV] END max_depth=13, max_features=log2, min_samples_leaf=52, min_samples_split=70, n_estimators=64; total time=  44.7s\n",
            "Fitting 5 folds for each of 1 candidates, totalling 5 fits\n",
            "[CV] END max_depth=70, max_features=sqrt, min_samples_leaf=63, min_samples_split=70, n_estimators=57; total time=  47.9s\n",
            "[CV] END max_depth=70, max_features=sqrt, min_samples_leaf=63, min_samples_split=70, n_estimators=57; total time=  47.6s\n",
            "[CV] END max_depth=70, max_features=sqrt, min_samples_leaf=63, min_samples_split=70, n_estimators=57; total time=  47.5s\n",
            "[CV] END max_depth=70, max_features=sqrt, min_samples_leaf=63, min_samples_split=70, n_estimators=57; total time=  48.5s\n",
            "[CV] END max_depth=70, max_features=sqrt, min_samples_leaf=63, min_samples_split=70, n_estimators=57; total time=  47.2s\n",
            "Fitting 5 folds for each of 1 candidates, totalling 5 fits\n",
            "[CV] END max_depth=81, max_features=sqrt, min_samples_leaf=78, min_samples_split=85, n_estimators=7; total time=   5.8s\n",
            "[CV] END max_depth=81, max_features=sqrt, min_samples_leaf=78, min_samples_split=85, n_estimators=7; total time=   6.2s\n",
            "[CV] END max_depth=81, max_features=sqrt, min_samples_leaf=78, min_samples_split=85, n_estimators=7; total time=   5.9s\n",
            "[CV] END max_depth=81, max_features=sqrt, min_samples_leaf=78, min_samples_split=85, n_estimators=7; total time=   5.9s\n",
            "[CV] END max_depth=81, max_features=sqrt, min_samples_leaf=78, min_samples_split=85, n_estimators=7; total time=   6.2s\n",
            "Fitting 5 folds for each of 1 candidates, totalling 5 fits\n",
            "[CV] END max_depth=11, max_features=sqrt, min_samples_leaf=18, min_samples_split=89, n_estimators=125; total time= 1.3min\n",
            "[CV] END max_depth=11, max_features=sqrt, min_samples_leaf=18, min_samples_split=89, n_estimators=125; total time= 1.3min\n",
            "[CV] END max_depth=11, max_features=sqrt, min_samples_leaf=18, min_samples_split=89, n_estimators=125; total time= 1.3min\n",
            "[CV] END max_depth=11, max_features=sqrt, min_samples_leaf=18, min_samples_split=89, n_estimators=125; total time= 1.4min\n",
            "[CV] END max_depth=11, max_features=sqrt, min_samples_leaf=18, min_samples_split=89, n_estimators=125; total time= 1.3min\n",
            "Fitting 5 folds for each of 1 candidates, totalling 5 fits\n",
            "[CV] END max_depth=34, max_features=log2, min_samples_leaf=57, min_samples_split=44, n_estimators=81; total time= 1.1min\n",
            "[CV] END max_depth=34, max_features=log2, min_samples_leaf=57, min_samples_split=44, n_estimators=81; total time= 1.1min\n",
            "[CV] END max_depth=34, max_features=log2, min_samples_leaf=57, min_samples_split=44, n_estimators=81; total time= 1.1min\n",
            "[CV] END max_depth=34, max_features=log2, min_samples_leaf=57, min_samples_split=44, n_estimators=81; total time= 1.2min\n",
            "[CV] END max_depth=34, max_features=log2, min_samples_leaf=57, min_samples_split=44, n_estimators=81; total time= 1.2min\n",
            "Fitting 5 folds for each of 1 candidates, totalling 5 fits\n",
            "[CV] END max_depth=55, max_features=log2, min_samples_leaf=32, min_samples_split=68, n_estimators=101; total time= 1.5min\n",
            "[CV] END max_depth=55, max_features=log2, min_samples_leaf=32, min_samples_split=68, n_estimators=101; total time= 1.5min\n",
            "[CV] END max_depth=55, max_features=log2, min_samples_leaf=32, min_samples_split=68, n_estimators=101; total time= 1.4min\n",
            "[CV] END max_depth=55, max_features=log2, min_samples_leaf=32, min_samples_split=68, n_estimators=101; total time= 1.5min\n",
            "[CV] END max_depth=55, max_features=log2, min_samples_leaf=32, min_samples_split=68, n_estimators=101; total time= 1.5min\n",
            "Fitting 5 folds for each of 1 candidates, totalling 5 fits\n",
            "[CV] END max_depth=62, max_features=log2, min_samples_leaf=3, min_samples_split=8, n_estimators=21; total time=  20.1s\n",
            "[CV] END max_depth=62, max_features=log2, min_samples_leaf=3, min_samples_split=8, n_estimators=21; total time=  23.1s\n",
            "[CV] END max_depth=62, max_features=log2, min_samples_leaf=3, min_samples_split=8, n_estimators=21; total time=  21.7s\n",
            "[CV] END max_depth=62, max_features=log2, min_samples_leaf=3, min_samples_split=8, n_estimators=21; total time=  22.1s\n",
            "[CV] END max_depth=62, max_features=log2, min_samples_leaf=3, min_samples_split=8, n_estimators=21; total time=  22.4s\n",
            "Fitting 5 folds for each of 1 candidates, totalling 5 fits\n",
            "[CV] END max_depth=96, max_features=auto, min_samples_leaf=15, min_samples_split=7, n_estimators=107; total time= 1.8min\n",
            "[CV] END max_depth=96, max_features=auto, min_samples_leaf=15, min_samples_split=7, n_estimators=107; total time= 1.8min\n",
            "[CV] END max_depth=96, max_features=auto, min_samples_leaf=15, min_samples_split=7, n_estimators=107; total time= 1.8min\n",
            "[CV] END max_depth=96, max_features=auto, min_samples_leaf=15, min_samples_split=7, n_estimators=107; total time= 1.8min\n",
            "[CV] END max_depth=96, max_features=auto, min_samples_leaf=15, min_samples_split=7, n_estimators=107; total time= 1.8min\n"
          ]
        },
        {
          "data": {
            "text/plain": [
              "BayesSearchCV(cv=5, estimator=RandomForestClassifier(random_state=40),\n",
              "              n_iter=10, scoring='accuracy',\n",
              "              search_spaces={'max_depth': Integer(low=2, high=100, prior='uniform', transform='normalize'),\n",
              "                             'max_features': ['auto', 'sqrt', 'log2'],\n",
              "                             'min_samples_leaf': Integer(low=1, high=100, prior='uniform', transform='normalize'),\n",
              "                             'min_samples_split': Integer(low=2, high=100, prior='uniform', transform='normalize'),\n",
              "                             'n_estimators': Integer(low=1, high=140, prior='uniform', transform='normalize')},\n",
              "              verbose=2)"
            ]
          },
          "execution_count": 58,
          "metadata": {},
          "output_type": "execute_result"
        }
      ]
    },
    {
      "cell_type": "code",
      "source": [
        "rf_bayes.best_params_"
      ],
      "metadata": {
        "id": "zqmMr1ibnfFs",
        "outputId": "18c89d30-b161-4586-8605-ca7c12350bcb",
        "colab": {
          "base_uri": "https://localhost:8080/"
        }
      },
      "execution_count": null,
      "outputs": [
        {
          "output_type": "execute_result",
          "data": {
            "text/plain": [
              "OrderedDict([('max_depth', 62),\n",
              "             ('max_features', 'log2'),\n",
              "             ('min_samples_leaf', 3),\n",
              "             ('min_samples_split', 8),\n",
              "             ('n_estimators', 21)])"
            ]
          },
          "metadata": {},
          "execution_count": 65
        }
      ]
    },
    {
      "cell_type": "code",
      "source": [
        "rf_bayes.best_estimator_"
      ],
      "metadata": {
        "id": "2aFdy9CdoiVa",
        "outputId": "77a39043-c857-44d5-e1a6-ce0ceff73f01",
        "colab": {
          "base_uri": "https://localhost:8080/"
        }
      },
      "execution_count": null,
      "outputs": [
        {
          "data": {
            "text/plain": [
              "RandomForestClassifier(max_depth=62, max_features='log2', min_samples_leaf=3,\n",
              "                       min_samples_split=8, n_estimators=21, random_state=40)"
            ]
          },
          "execution_count": 60,
          "metadata": {},
          "output_type": "execute_result"
        }
      ]
    },
    {
      "cell_type": "code",
      "source": [
        "rf_bayestest_pred=rf_bayes.best_estimator_.predict(X_test)"
      ],
      "metadata": {
        "id": "DUMnZkHrop9W"
      },
      "execution_count": null,
      "outputs": []
    },
    {
      "cell_type": "code",
      "source": [
        "rf_model_probability = rf_bayes.best_estimator_.predict_proba(X_test)[:,1]\n"
      ],
      "metadata": {
        "id": "xiMZA0zFosEF"
      },
      "execution_count": null,
      "outputs": []
    },
    {
      "cell_type": "code",
      "source": [
        "# evaluating the model on the following metrics.\n",
        "accu_rf_hp = accuracy_score(y_test,rf_bayestest_pred)\n",
        "recall_rf_hp = recall_score(y_test,rf_bayestest_pred)\n",
        "prec_rf_hp = precision_score(y_test,rf_bayestest_pred)\n",
        "f1score_rf_hp=f1_score(y_test,rf_bayestest_pred)\n",
        "\n",
        "#print accuracy ,classification report and confusion matrix  values of model.\n",
        "\n",
        "print(accuracy_score(y_test, rf_bayestest_pred)*100)\n",
        "print(classification_report(y_test, rf_bayestest_pred))\n",
        "print(\"Confusion matrix\\n\", confusion_matrix(y_test, rf_bayestest_pred))"
      ],
      "metadata": {
        "id": "otqKkdWHouDa",
        "outputId": "c5b79e33-f31a-499f-d8e1-207c297e3b62",
        "colab": {
          "base_uri": "https://localhost:8080/"
        }
      },
      "execution_count": null,
      "outputs": [
        {
          "metadata": {
            "tags": null
          },
          "name": "stdout",
          "output_type": "stream",
          "text": [
            "88.45918062200957\n",
            "              precision    recall  f1-score   support\n",
            "\n",
            "           0       0.91      0.86      0.88     66882\n",
            "           1       0.87      0.91      0.89     66878\n",
            "\n",
            "    accuracy                           0.88    133760\n",
            "   macro avg       0.89      0.88      0.88    133760\n",
            "weighted avg       0.89      0.88      0.88    133760\n",
            "\n",
            "Confusion matrix\n",
            " [[57390  9492]\n",
            " [ 5945 60933]]\n"
          ]
        }
      ]
    },
    {
      "cell_type": "code",
      "source": [
        " #performance and evaluation\n",
        "from sklearn.metrics import roc_curve\n",
        "fpr, tpr, _ = roc_curve(y_test,rf_model_probability)\n",
        "\n",
        "plt.title('RandomForestClassifier')\n",
        "plt.xlabel('FPR (Precision)')\n",
        "plt.ylabel('TPR (Recall)')\n",
        "\n",
        "plt.plot(fpr,tpr)\n",
        "plt.plot((0,1), ls='dashed',color='black')\n",
        "plt.show()"
      ],
      "metadata": {
        "id": "wgT1Us38oykq",
        "outputId": "91220547-a4a3-4d99-aed9-f524c2141848",
        "colab": {
          "base_uri": "https://localhost:8080/",
          "height": 295
        }
      },
      "execution_count": null,
      "outputs": [
        {
          "output_type": "display_data",
          "data": {
            "text/plain": [
              "<Figure size 432x288 with 1 Axes>"
            ],
            "image/png": "[encoded data removed]"
          },
          "metadata": {
            "needs_background": "light"
          }
        }
      ]
    },
    {
      "cell_type": "code",
      "source": [
        "# Confusion matrix useful to find how many values are classified correctly\n",
        "cm=confusion_matrix(y_test,rf_bayestest_pred)\n",
        "print(cm)\n",
        "sns.heatmap(cm,annot=True,cmap='BuPu')"
      ],
      "metadata": {
        "id": "n2wCK8Hlo2cR",
        "outputId": "6e7be47a-ddf6-47cc-ccc6-d03ec2053231",
        "colab": {
          "base_uri": "https://localhost:8080/",
          "height": 318
        }
      },
      "execution_count": null,
      "outputs": [
        {
          "output_type": "stream",
          "name": "stdout",
          "text": [
            "[[57390  9492]\n",
            " [ 5945 60933]]\n"
          ]
        },
        {
          "output_type": "execute_result",
          "data": {
            "text/plain": [
              "<matplotlib.axes._subplots.AxesSubplot at 0x7fd2baa4d7d0>"
            ]
          },
          "metadata": {},
          "execution_count": 68
        },
        {
          "output_type": "display_data",
          "data": {
            "text/plain": [
              "<Figure size 432x288 with 2 Axes>"
            ],
            "image/png": "[encoded data removed]"
          },
          "metadata": {
            "needs_background": "light"
          }
        }
      ]
    },
    {
      "cell_type": "markdown",
      "source": [
        "# **XGBoost Classifier**"
      ],
      "metadata": {
        "id": "nVvNQAcR0v_0"
      }
    },
    {
      "cell_type": "code",
      "source": [
        "#hyper parameter tuning\n",
        "xgb_model=xgb.XGBClassifier()\n",
        "#xgb = XGBoostClassifier()\n",
        "#Cross validation and hyperparameter tuning\n",
        "xgb_bayes = BayesSearchCV(estimator= xgb_model,\n",
        "                         search_spaces = {\n",
        "                          'max_depth': Integer(2,100),\n",
        "                          'min_samples_leaf': Integer(1,100),\n",
        "                          'min_samples_split': Integer(2,100),\n",
        "                          'n_estimators': Integer(1,140),\n",
        "                          'max_features': [\"auto\", \"sqrt\", \"log2\"]\n",
        "                        },\n",
        "                       cv = 5, verbose=2, scoring='accuracy',n_iter=4)\n",
        "\n",
        "xgb_bayes.fit(X_train,y_train)"
      ],
      "metadata": {
        "id": "rOMxqIhpy3Zj",
        "outputId": "81a4a7d3-221e-4e80-f37c-61fc80bbaf4e",
        "colab": {
          "base_uri": "https://localhost:8080/"
        }
      },
      "execution_count": null,
      "outputs": [
        {
          "output_type": "stream",
          "name": "stdout",
          "text": [
            "Fitting 5 folds for each of 1 candidates, totalling 5 fits\n",
            "[CV] END max_depth=96, max_features=sqrt, min_samples_leaf=29, min_samples_split=32, n_estimators=14; total time= 1.2min\n",
            "[CV] END max_depth=96, max_features=sqrt, min_samples_leaf=29, min_samples_split=32, n_estimators=14; total time= 1.2min\n",
            "[CV] END max_depth=96, max_features=sqrt, min_samples_leaf=29, min_samples_split=32, n_estimators=14; total time= 1.3min\n",
            "[CV] END max_depth=96, max_features=sqrt, min_samples_leaf=29, min_samples_split=32, n_estimators=14; total time= 1.2min\n",
            "[CV] END max_depth=96, max_features=sqrt, min_samples_leaf=29, min_samples_split=32, n_estimators=14; total time= 1.2min\n",
            "Fitting 5 folds for each of 1 candidates, totalling 5 fits\n",
            "[CV] END max_depth=41, max_features=log2, min_samples_leaf=9, min_samples_split=14, n_estimators=47; total time= 3.1min\n",
            "[CV] END max_depth=41, max_features=log2, min_samples_leaf=9, min_samples_split=14, n_estimators=47; total time= 3.1min\n",
            "[CV] END max_depth=41, max_features=log2, min_samples_leaf=9, min_samples_split=14, n_estimators=47; total time= 3.0min\n",
            "[CV] END max_depth=41, max_features=log2, min_samples_leaf=9, min_samples_split=14, n_estimators=47; total time= 3.1min\n",
            "[CV] END max_depth=41, max_features=log2, min_samples_leaf=9, min_samples_split=14, n_estimators=47; total time= 3.1min\n",
            "Fitting 5 folds for each of 1 candidates, totalling 5 fits\n",
            "[CV] END max_depth=53, max_features=log2, min_samples_leaf=47, min_samples_split=5, n_estimators=52; total time= 4.1min\n",
            "[CV] END max_depth=53, max_features=log2, min_samples_leaf=47, min_samples_split=5, n_estimators=52; total time= 4.1min\n",
            "[CV] END max_depth=53, max_features=log2, min_samples_leaf=47, min_samples_split=5, n_estimators=52; total time= 4.1min\n",
            "[CV] END max_depth=53, max_features=log2, min_samples_leaf=47, min_samples_split=5, n_estimators=52; total time= 4.1min\n",
            "[CV] END max_depth=53, max_features=log2, min_samples_leaf=47, min_samples_split=5, n_estimators=52; total time= 4.2min\n",
            "Fitting 5 folds for each of 1 candidates, totalling 5 fits\n",
            "[CV] END max_depth=32, max_features=sqrt, min_samples_leaf=89, min_samples_split=40, n_estimators=42; total time= 2.3min\n",
            "[CV] END max_depth=32, max_features=sqrt, min_samples_leaf=89, min_samples_split=40, n_estimators=42; total time= 2.2min\n",
            "[CV] END max_depth=32, max_features=sqrt, min_samples_leaf=89, min_samples_split=40, n_estimators=42; total time= 2.2min\n",
            "[CV] END max_depth=32, max_features=sqrt, min_samples_leaf=89, min_samples_split=40, n_estimators=42; total time= 2.2min\n",
            "[CV] END max_depth=32, max_features=sqrt, min_samples_leaf=89, min_samples_split=40, n_estimators=42; total time= 2.2min\n"
          ]
        },
        {
          "output_type": "execute_result",
          "data": {
            "text/plain": [
              "BayesSearchCV(cv=5, estimator=XGBClassifier(), n_iter=4, scoring='accuracy',\n",
              "              search_spaces={'max_depth': Integer(low=2, high=100, prior='uniform', transform='normalize'),\n",
              "                             'max_features': ['auto', 'sqrt', 'log2'],\n",
              "                             'min_samples_leaf': Integer(low=1, high=100, prior='uniform', transform='normalize'),\n",
              "                             'min_samples_split': Integer(low=2, high=100, prior='uniform', transform='normalize'),\n",
              "                             'n_estimators': Integer(low=1, high=140, prior='uniform', transform='normalize')},\n",
              "              verbose=2)"
            ]
          },
          "metadata": {},
          "execution_count": 69
        }
      ]
    },
    {
      "cell_type": "code",
      "source": [
        "xgb_bayes.best_params_"
      ],
      "metadata": {
        "id": "C2rL19eg1zjA",
        "outputId": "69a91070-80c3-4164-9e81-f8e40167047e",
        "colab": {
          "base_uri": "https://localhost:8080/"
        }
      },
      "execution_count": null,
      "outputs": [
        {
          "output_type": "execute_result",
          "data": {
            "text/plain": [
              "OrderedDict([('max_depth', 53),\n",
              "             ('max_features', 'log2'),\n",
              "             ('min_samples_leaf', 47),\n",
              "             ('min_samples_split', 5),\n",
              "             ('n_estimators', 52)])"
            ]
          },
          "metadata": {},
          "execution_count": 70
        }
      ]
    },
    {
      "cell_type": "code",
      "source": [
        "xgb_bayes.best_estimator_"
      ],
      "metadata": {
        "id": "a0E8mmCa11Yt",
        "outputId": "3e15f898-9803-4cf9-8833-d10424fb721f",
        "colab": {
          "base_uri": "https://localhost:8080/"
        }
      },
      "execution_count": null,
      "outputs": [
        {
          "output_type": "execute_result",
          "data": {
            "text/plain": [
              "XGBClassifier(max_depth=53, max_features='log2', min_samples_leaf=47,\n",
              "              min_samples_split=5, n_estimators=52)"
            ]
          },
          "metadata": {},
          "execution_count": 71
        }
      ]
    },
    {
      "cell_type": "code",
      "source": [
        "xgbtest_pred=xgb_bayes.best_estimator_.predict(X_test)"
      ],
      "metadata": {
        "id": "It6hbLaA12-S"
      },
      "execution_count": null,
      "outputs": []
    },
    {
      "cell_type": "code",
      "source": [
        "xgb_model_probability = rf_bayes.best_estimator_.predict_proba(X_test)[:,1]\n"
      ],
      "metadata": {
        "id": "lXmS0R7H15zy"
      },
      "execution_count": null,
      "outputs": []
    },
    {
      "cell_type": "code",
      "source": [
        "# evaluating the model on the following metrics.\n",
        "accu_xgb_hp = accuracy_score(y_test,xgbtest_pred)\n",
        "recall_xgb_hp= recall_score(y_test,xgbtest_pred)\n",
        "prec_xgb_hp = precision_score(y_test,xgbtest_pred)\n",
        "f1score_xgb_hp=f1_score(y_test,xgbtest_pred)\n",
        "\n",
        "#print accuracy ,classification report and confusion matrix  values of model.\n",
        "\n",
        "print(accuracy_score(y_test, xgbtest_pred)*100)\n",
        "print(classification_report(y_test, xgbtest_pred))\n",
        "print(\"Confusion matrix\\n\", confusion_matrix(y_test, xgbtest_pred))"
      ],
      "metadata": {
        "id": "r5988Cs71-iZ",
        "outputId": "82a9c59c-f133-41e3-c76c-6384195d2ba3",
        "colab": {
          "base_uri": "https://localhost:8080/"
        }
      },
      "execution_count": null,
      "outputs": [
        {
          "output_type": "stream",
          "name": "stdout",
          "text": [
            "90.33418062200957\n",
            "              precision    recall  f1-score   support\n",
            "\n",
            "           0       0.91      0.89      0.90     66882\n",
            "           1       0.89      0.92      0.90     66878\n",
            "\n",
            "    accuracy                           0.90    133760\n",
            "   macro avg       0.90      0.90      0.90    133760\n",
            "weighted avg       0.90      0.90      0.90    133760\n",
            "\n",
            "Confusion matrix\n",
            " [[59531  7351]\n",
            " [ 5578 61300]]\n"
          ]
        }
      ]
    },
    {
      "cell_type": "code",
      "source": [
        " # performance and evaluation\n",
        "from sklearn.metrics import roc_curve\n",
        "fpr, tpr, _ = roc_curve(y_test,xgb_model_probability)\n",
        "\n",
        "plt.title('XGB Classifier curve')\n",
        "plt.xlabel('FPR (Precision)')\n",
        "plt.ylabel('TPR (Recall)')\n",
        "\n",
        "plt.plot(fpr,tpr)\n",
        "plt.plot((0,1), ls='dashed',color='black')\n",
        "plt.show()"
      ],
      "metadata": {
        "id": "KMJLJmOm2BGC",
        "outputId": "9a8bcf37-96b8-48f4-e24a-f31da5e79415",
        "colab": {
          "base_uri": "https://localhost:8080/",
          "height": 295
        }
      },
      "execution_count": null,
      "outputs": [
        {
          "output_type": "display_data",
          "data": {
            "text/plain": [
              "<Figure size 432x288 with 1 Axes>"
            ],
            "image/png": "[encoded data removed]"
          },
          "metadata": {
            "needs_background": "light"
          }
        }
      ]
    },
    {
      "cell_type": "code",
      "source": [
        "# Confusion matrix useful to find how many values are classified correctly\n",
        "cm=confusion_matrix(y_test,xgbtest_pred)\n",
        "print(cm)\n",
        "sns.heatmap(cm,annot=True,cmap='BuPu')"
      ],
      "metadata": {
        "id": "TZyCGj_p2EyU",
        "outputId": "6298b919-421c-4091-a5f5-5c2524f6b600",
        "colab": {
          "base_uri": "https://localhost:8080/",
          "height": 317
        }
      },
      "execution_count": null,
      "outputs": [
        {
          "output_type": "stream",
          "name": "stdout",
          "text": [
            "[[59531  7351]\n",
            " [ 5578 61300]]\n"
          ]
        },
        {
          "output_type": "execute_result",
          "data": {
            "text/plain": [
              "<matplotlib.axes._subplots.AxesSubplot at 0x7fd2b8bd5cd0>"
            ]
          },
          "metadata": {},
          "execution_count": 76
        },
        {
          "output_type": "display_data",
          "data": {
            "text/plain": [
              "<Figure size 432x288 with 2 Axes>"
            ],
            "image/png": "[encoded data removed]"
          },
          "metadata": {
            "needs_background": "light"
          }
        }
      ]
    },
    {
      "cell_type": "markdown",
      "source": [
        "# **Comparing The Model After Hyperparameter Tuning**"
      ],
      "metadata": {
        "id": "5-Ts1Mdh2IKn"
      }
    },
    {
      "cell_type": "code",
      "source": [
        "## Comparing the performance of the models\n",
        "ind=['Randomforest','XGBClassifier']\n",
        "df={\"Accuracy\":[accu_rf_hp,accu_xgb_hp],\"Recall\":[recall_rf_hp,recall_xgb_hp],\"Precision\":[prec_rf_hp,prec_xgb_hp],'f1_score':[f1score_rf_hp,f1score_xgb_hp]}\n",
        "result=pd.DataFrame(data=df,index=ind)\n",
        "result"
      ],
      "metadata": {
        "id": "txmuMDWn2GzV",
        "outputId": "010613f9-0acb-4b5e-8281-23337821e2f8",
        "colab": {
          "base_uri": "https://localhost:8080/",
          "height": 112
        }
      },
      "execution_count": null,
      "outputs": [
        {
          "output_type": "execute_result",
          "data": {
            "text/plain": [
              "               Accuracy    Recall  Precision  f1_score\n",
              "Randomforest   0.884592  0.911107   0.865218  0.887570\n",
              "XGBClassifier  0.903342  0.916594   0.892922  0.904603"
            ],
            "text/html": [
              "\n",
              "  <div id=\"df-f8d018fa-0753-4e57-b6d2-ef7684b2da3c\">\n",
              "    <div class=\"colab-df-container\">\n",
              "      <div>\n",
              "<style scoped>\n",
              "    .dataframe tbody tr th:only-of-type {\n",
              "        vertical-align: middle;\n",
              "    }\n",
              "\n",
              "    .dataframe tbody tr th {\n",
              "        vertical-align: top;\n",
              "    }\n",
              "\n",
              "    .dataframe thead th {\n",
              "        text-align: right;\n",
              "    }\n",
              "</style>\n",
              "<table border=\"1\" class=\"dataframe\">\n",
              "  <thead>\n",
              "    <tr style=\"text-align: right;\">\n",
              "      <th></th>\n",
              "      <th>Accuracy</th>\n",
              "      <th>Recall</th>\n",
              "      <th>Precision</th>\n",
              "      <th>f1_score</th>\n",
              "    </tr>\n",
              "  </thead>\n",
              "  <tbody>\n",
              "    <tr>\n",
              "      <th>Randomforest</th>\n",
              "      <td>0.884592</td>\n",
              "      <td>0.911107</td>\n",
              "      <td>0.865218</td>\n",
              "      <td>0.887570</td>\n",
              "    </tr>\n",
              "    <tr>\n",
              "      <th>XGBClassifier</th>\n",
              "      <td>0.903342</td>\n",
              "      <td>0.916594</td>\n",
              "      <td>0.892922</td>\n",
              "      <td>0.904603</td>\n",
              "    </tr>\n",
              "  </tbody>\n",
              "</table>\n",
              "</div>\n",
              "      <button class=\"colab-df-convert\" onclick=\"convertToInteractive('df-f8d018fa-0753-4e57-b6d2-ef7684b2da3c')\"\n",
              "              title=\"Convert this dataframe to an interactive table.\"\n",
              "              style=\"display:none;\">\n",
              "        \n",
              "  <svg xmlns=\"http://www.w3.org/2000/svg\" height=\"24px\"viewBox=\"0 0 24 24\"\n",
              "       width=\"24px\">\n",
              "    <path d=\"M0 0h24v24H0V0z\" fill=\"none\"/>\n",
              "    <path d=\"M18.56 5.44l.94 2.06.94-2.06 2.06-.94-2.06-.94-.94-2.06-.94 2.06-2.06.94zm-11 1L8.5 8.5l.94-2.06 2.06-.94-2.06-.94L8.5 2.5l-.94 2.06-2.06.94zm10 10l.94 2.06.94-2.06 2.06-.94-2.06-.94-.94-2.06-.94 2.06-2.06.94z\"/><path d=\"M17.41 7.96l-1.37-1.37c-.4-.4-.92-.59-1.43-.59-.52 0-1.04.2-1.43.59L10.3 9.45l-7.72 7.72c-.78.78-.78 2.05 0 2.83L4 21.41c.39.39.9.59 1.41.59.51 0 1.02-.2 1.41-.59l7.78-7.78 2.81-2.81c.8-.78.8-2.07 0-2.86zM5.41 20L4 18.59l7.72-7.72 1.47 1.35L5.41 20z\"/>\n",
              "  </svg>\n",
              "      </button>\n",
              "      \n",
              "  <style>\n",
              "    .colab-df-container {\n",
              "      display:flex;\n",
              "      flex-wrap:wrap;\n",
              "      gap: 12px;\n",
              "    }\n",
              "\n",
              "    .colab-df-convert {\n",
              "      background-color: #E8F0FE;\n",
              "      border: none;\n",
              "      border-radius: 50%;\n",
              "      cursor: pointer;\n",
              "      display: none;\n",
              "      fill: #1967D2;\n",
              "      height: 32px;\n",
              "      padding: 0 0 0 0;\n",
              "      width: 32px;\n",
              "    }\n",
              "\n",
              "    .colab-df-convert:hover {\n",
              "      background-color: #E2EBFA;\n",
              "      box-shadow: 0px 1px 2px rgba(60, 64, 67, 0.3), 0px 1px 3px 1px rgba(60, 64, 67, 0.15);\n",
              "      fill: #174EA6;\n",
              "    }\n",
              "\n",
              "    [theme=dark] .colab-df-convert {\n",
              "      background-color: #3B4455;\n",
              "      fill: #D2E3FC;\n",
              "    }\n",
              "\n",
              "    [theme=dark] .colab-df-convert:hover {\n",
              "      background-color: #434B5C;\n",
              "      box-shadow: 0px 1px 3px 1px rgba(0, 0, 0, 0.15);\n",
              "      filter: drop-shadow(0px 1px 2px rgba(0, 0, 0, 0.3));\n",
              "      fill: #FFFFFF;\n",
              "    }\n",
              "  </style>\n",
              "\n",
              "      <script>\n",
              "        const buttonEl =\n",
              "          document.querySelector('#df-f8d018fa-0753-4e57-b6d2-ef7684b2da3c button.colab-df-convert');\n",
              "        buttonEl.style.display =\n",
              "          google.colab.kernel.accessAllowed ? 'block' : 'none';\n",
              "\n",
              "        async function convertToInteractive(key) {\n",
              "          const element = document.querySelector('#df-f8d018fa-0753-4e57-b6d2-ef7684b2da3c');\n",
              "          const dataTable =\n",
              "            await google.colab.kernel.invokeFunction('convertToInteractive',\n",
              "                                                     [key], {});\n",
              "          if (!dataTable) return;\n",
              "\n",
              "          const docLinkHtml = 'Like what you see? Visit the ' +\n",
              "            '<a target=\"_blank\" href=https://colab.research.google.com/notebooks/data_table.ipynb>data table notebook</a>'\n",
              "            + ' to learn more about interactive tables.';\n",
              "          element.innerHTML = '';\n",
              "          dataTable['output_type'] = 'display_data';\n",
              "          await google.colab.output.renderOutput(dataTable, element);\n",
              "          const docLink = document.createElement('div');\n",
              "          docLink.innerHTML = docLinkHtml;\n",
              "          element.appendChild(docLink);\n",
              "        }\n",
              "      </script>\n",
              "    </div>\n",
              "  </div>\n",
              "  "
            ]
          },
          "metadata": {},
          "execution_count": 77
        }
      ]
    },
    {
      "cell_type": "markdown",
      "source": [
        "# **Concusion**"
      ],
      "metadata": {
        "id": "PBOVl9nK2XO1"
      }
    },
    {
      "cell_type": "markdown",
      "source": [
        "\n",
        "\n",
        "*   The given dataset is an imbalance problem as the Response variable with the value 1 is significantly lower than the value zero\n",
        "*  The male customers own slightly more vehicles and they are more tend to buy insurance in comparison to their female counterparts.\n",
        "*   Customers of aged between 30 to 60 are more likely to buy insurance.wheras Youngsters under 30 are not intrigued by vehicle insurance. Reasons could be the absence of involvement, less awareness about insurance and they may not have costly vehicles yet.\n",
        "\n",
        "*   the customers who have driving licences will option for insurance instead of those who don’t have it\n",
        "*   Consumers with 1-2-year-old vehicles are more interested in buying insurance. as compared to Consumers with less than 1-year-old Vehicles\n",
        "\n",
        "*   Customers with Vehicle_Damage are likely to buy insurance as they have experienced the expenditure in repairing vehicles The variable such as Age, Previously_insured, Annual_premium is more affecting the target variable.\n",
        "*   We used different type of algorithms to train our model like, Logistic Regression, Random Forest model, Decision tree and XGB Classifier. And Also we tuned the parameters of XGB Classifier and Random Forest model Comparing the model on the basis of precision,recall, accuracy ,F1 score we can see that the XGBClassifier model performs better.Even comparing ROC curve XGB Classifier performed better because curves closer to the top-left corner indicate better performance.\n",
        "\n",
        "\n",
        "\n",
        "\n",
        "\n",
        "\n",
        "\n"
      ],
      "metadata": {
        "id": "bBsDsgIS2j4w"
      }
    },
    {
      "cell_type": "code",
      "source": [],
      "metadata": {
        "id": "0o0EnFfj3Awn"
      },
      "execution_count": null,
      "outputs": []
    }
  ]
}